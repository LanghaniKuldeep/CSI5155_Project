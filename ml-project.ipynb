{
 "cells": [
  {
   "cell_type": "markdown",
   "metadata": {},
   "source": [
    "## Importing Data"
   ]
  },
  {
   "cell_type": "code",
   "execution_count": 1,
   "metadata": {},
   "outputs": [],
   "source": [
    "import numpy as np\n",
    "%matplotlib inline\n",
    "import matplotlib\n",
    "import matplotlib.pyplot as plt"
   ]
  },
  {
   "cell_type": "code",
   "execution_count": 2,
   "metadata": {},
   "outputs": [],
   "source": [
    "import pandas as pd\n",
    "df=pd.read_csv('googleplaystore.csv')"
   ]
  },
  {
   "cell_type": "code",
   "execution_count": 3,
   "metadata": {},
   "outputs": [
    {
     "data": {
      "text/html": [
       "<div>\n",
       "<style scoped>\n",
       "    .dataframe tbody tr th:only-of-type {\n",
       "        vertical-align: middle;\n",
       "    }\n",
       "\n",
       "    .dataframe tbody tr th {\n",
       "        vertical-align: top;\n",
       "    }\n",
       "\n",
       "    .dataframe thead th {\n",
       "        text-align: right;\n",
       "    }\n",
       "</style>\n",
       "<table border=\"1\" class=\"dataframe\">\n",
       "  <thead>\n",
       "    <tr style=\"text-align: right;\">\n",
       "      <th></th>\n",
       "      <th>App</th>\n",
       "      <th>Category</th>\n",
       "      <th>Rating</th>\n",
       "      <th>Reviews</th>\n",
       "      <th>Size</th>\n",
       "      <th>Installs</th>\n",
       "      <th>Type</th>\n",
       "      <th>Price</th>\n",
       "      <th>Content Rating</th>\n",
       "      <th>Genres</th>\n",
       "      <th>Last Updated</th>\n",
       "      <th>Current Ver</th>\n",
       "      <th>Android Ver</th>\n",
       "    </tr>\n",
       "  </thead>\n",
       "  <tbody>\n",
       "    <tr>\n",
       "      <td>0</td>\n",
       "      <td>Photo Editor &amp; Candy Camera &amp; Grid &amp; ScrapBook</td>\n",
       "      <td>ART_AND_DESIGN</td>\n",
       "      <td>4.1</td>\n",
       "      <td>159</td>\n",
       "      <td>19M</td>\n",
       "      <td>10,000+</td>\n",
       "      <td>Free</td>\n",
       "      <td>0</td>\n",
       "      <td>Everyone</td>\n",
       "      <td>Art &amp; Design</td>\n",
       "      <td>January 7, 2018</td>\n",
       "      <td>1.0.0</td>\n",
       "      <td>4.0.3 and up</td>\n",
       "    </tr>\n",
       "    <tr>\n",
       "      <td>1</td>\n",
       "      <td>Coloring book moana</td>\n",
       "      <td>ART_AND_DESIGN</td>\n",
       "      <td>3.9</td>\n",
       "      <td>967</td>\n",
       "      <td>14M</td>\n",
       "      <td>500,000+</td>\n",
       "      <td>Free</td>\n",
       "      <td>0</td>\n",
       "      <td>Everyone</td>\n",
       "      <td>Art &amp; Design;Pretend Play</td>\n",
       "      <td>January 15, 2018</td>\n",
       "      <td>2.0.0</td>\n",
       "      <td>4.0.3 and up</td>\n",
       "    </tr>\n",
       "    <tr>\n",
       "      <td>2</td>\n",
       "      <td>U Launcher Lite – FREE Live Cool Themes, Hide ...</td>\n",
       "      <td>ART_AND_DESIGN</td>\n",
       "      <td>4.7</td>\n",
       "      <td>87510</td>\n",
       "      <td>8.7M</td>\n",
       "      <td>5,000,000+</td>\n",
       "      <td>Free</td>\n",
       "      <td>0</td>\n",
       "      <td>Everyone</td>\n",
       "      <td>Art &amp; Design</td>\n",
       "      <td>August 1, 2018</td>\n",
       "      <td>1.2.4</td>\n",
       "      <td>4.0.3 and up</td>\n",
       "    </tr>\n",
       "    <tr>\n",
       "      <td>3</td>\n",
       "      <td>Sketch - Draw &amp; Paint</td>\n",
       "      <td>ART_AND_DESIGN</td>\n",
       "      <td>4.5</td>\n",
       "      <td>215644</td>\n",
       "      <td>25M</td>\n",
       "      <td>50,000,000+</td>\n",
       "      <td>Free</td>\n",
       "      <td>0</td>\n",
       "      <td>Teen</td>\n",
       "      <td>Art &amp; Design</td>\n",
       "      <td>June 8, 2018</td>\n",
       "      <td>Varies with device</td>\n",
       "      <td>4.2 and up</td>\n",
       "    </tr>\n",
       "    <tr>\n",
       "      <td>4</td>\n",
       "      <td>Pixel Draw - Number Art Coloring Book</td>\n",
       "      <td>ART_AND_DESIGN</td>\n",
       "      <td>4.3</td>\n",
       "      <td>967</td>\n",
       "      <td>2.8M</td>\n",
       "      <td>100,000+</td>\n",
       "      <td>Free</td>\n",
       "      <td>0</td>\n",
       "      <td>Everyone</td>\n",
       "      <td>Art &amp; Design;Creativity</td>\n",
       "      <td>June 20, 2018</td>\n",
       "      <td>1.1</td>\n",
       "      <td>4.4 and up</td>\n",
       "    </tr>\n",
       "    <tr>\n",
       "      <td>...</td>\n",
       "      <td>...</td>\n",
       "      <td>...</td>\n",
       "      <td>...</td>\n",
       "      <td>...</td>\n",
       "      <td>...</td>\n",
       "      <td>...</td>\n",
       "      <td>...</td>\n",
       "      <td>...</td>\n",
       "      <td>...</td>\n",
       "      <td>...</td>\n",
       "      <td>...</td>\n",
       "      <td>...</td>\n",
       "      <td>...</td>\n",
       "    </tr>\n",
       "    <tr>\n",
       "      <td>10836</td>\n",
       "      <td>Sya9a Maroc - FR</td>\n",
       "      <td>FAMILY</td>\n",
       "      <td>4.5</td>\n",
       "      <td>38</td>\n",
       "      <td>53M</td>\n",
       "      <td>5,000+</td>\n",
       "      <td>Free</td>\n",
       "      <td>0</td>\n",
       "      <td>Everyone</td>\n",
       "      <td>Education</td>\n",
       "      <td>July 25, 2017</td>\n",
       "      <td>1.48</td>\n",
       "      <td>4.1 and up</td>\n",
       "    </tr>\n",
       "    <tr>\n",
       "      <td>10837</td>\n",
       "      <td>Fr. Mike Schmitz Audio Teachings</td>\n",
       "      <td>FAMILY</td>\n",
       "      <td>5.0</td>\n",
       "      <td>4</td>\n",
       "      <td>3.6M</td>\n",
       "      <td>100+</td>\n",
       "      <td>Free</td>\n",
       "      <td>0</td>\n",
       "      <td>Everyone</td>\n",
       "      <td>Education</td>\n",
       "      <td>July 6, 2018</td>\n",
       "      <td>1.0</td>\n",
       "      <td>4.1 and up</td>\n",
       "    </tr>\n",
       "    <tr>\n",
       "      <td>10838</td>\n",
       "      <td>Parkinson Exercices FR</td>\n",
       "      <td>MEDICAL</td>\n",
       "      <td>NaN</td>\n",
       "      <td>3</td>\n",
       "      <td>9.5M</td>\n",
       "      <td>1,000+</td>\n",
       "      <td>Free</td>\n",
       "      <td>0</td>\n",
       "      <td>Everyone</td>\n",
       "      <td>Medical</td>\n",
       "      <td>January 20, 2017</td>\n",
       "      <td>1.0</td>\n",
       "      <td>2.2 and up</td>\n",
       "    </tr>\n",
       "    <tr>\n",
       "      <td>10839</td>\n",
       "      <td>The SCP Foundation DB fr nn5n</td>\n",
       "      <td>BOOKS_AND_REFERENCE</td>\n",
       "      <td>4.5</td>\n",
       "      <td>114</td>\n",
       "      <td>Varies with device</td>\n",
       "      <td>1,000+</td>\n",
       "      <td>Free</td>\n",
       "      <td>0</td>\n",
       "      <td>Mature 17+</td>\n",
       "      <td>Books &amp; Reference</td>\n",
       "      <td>January 19, 2015</td>\n",
       "      <td>Varies with device</td>\n",
       "      <td>Varies with device</td>\n",
       "    </tr>\n",
       "    <tr>\n",
       "      <td>10840</td>\n",
       "      <td>iHoroscope - 2018 Daily Horoscope &amp; Astrology</td>\n",
       "      <td>LIFESTYLE</td>\n",
       "      <td>4.5</td>\n",
       "      <td>398307</td>\n",
       "      <td>19M</td>\n",
       "      <td>10,000,000+</td>\n",
       "      <td>Free</td>\n",
       "      <td>0</td>\n",
       "      <td>Everyone</td>\n",
       "      <td>Lifestyle</td>\n",
       "      <td>July 25, 2018</td>\n",
       "      <td>Varies with device</td>\n",
       "      <td>Varies with device</td>\n",
       "    </tr>\n",
       "  </tbody>\n",
       "</table>\n",
       "<p>10841 rows × 13 columns</p>\n",
       "</div>"
      ],
      "text/plain": [
       "                                                     App             Category  \\\n",
       "0         Photo Editor & Candy Camera & Grid & ScrapBook       ART_AND_DESIGN   \n",
       "1                                    Coloring book moana       ART_AND_DESIGN   \n",
       "2      U Launcher Lite – FREE Live Cool Themes, Hide ...       ART_AND_DESIGN   \n",
       "3                                  Sketch - Draw & Paint       ART_AND_DESIGN   \n",
       "4                  Pixel Draw - Number Art Coloring Book       ART_AND_DESIGN   \n",
       "...                                                  ...                  ...   \n",
       "10836                                   Sya9a Maroc - FR               FAMILY   \n",
       "10837                   Fr. Mike Schmitz Audio Teachings               FAMILY   \n",
       "10838                             Parkinson Exercices FR              MEDICAL   \n",
       "10839                      The SCP Foundation DB fr nn5n  BOOKS_AND_REFERENCE   \n",
       "10840      iHoroscope - 2018 Daily Horoscope & Astrology            LIFESTYLE   \n",
       "\n",
       "       Rating Reviews                Size     Installs  Type Price  \\\n",
       "0         4.1     159                 19M      10,000+  Free     0   \n",
       "1         3.9     967                 14M     500,000+  Free     0   \n",
       "2         4.7   87510                8.7M   5,000,000+  Free     0   \n",
       "3         4.5  215644                 25M  50,000,000+  Free     0   \n",
       "4         4.3     967                2.8M     100,000+  Free     0   \n",
       "...       ...     ...                 ...          ...   ...   ...   \n",
       "10836     4.5      38                 53M       5,000+  Free     0   \n",
       "10837     5.0       4                3.6M         100+  Free     0   \n",
       "10838     NaN       3                9.5M       1,000+  Free     0   \n",
       "10839     4.5     114  Varies with device       1,000+  Free     0   \n",
       "10840     4.5  398307                 19M  10,000,000+  Free     0   \n",
       "\n",
       "      Content Rating                     Genres      Last Updated  \\\n",
       "0           Everyone               Art & Design   January 7, 2018   \n",
       "1           Everyone  Art & Design;Pretend Play  January 15, 2018   \n",
       "2           Everyone               Art & Design    August 1, 2018   \n",
       "3               Teen               Art & Design      June 8, 2018   \n",
       "4           Everyone    Art & Design;Creativity     June 20, 2018   \n",
       "...              ...                        ...               ...   \n",
       "10836       Everyone                  Education     July 25, 2017   \n",
       "10837       Everyone                  Education      July 6, 2018   \n",
       "10838       Everyone                    Medical  January 20, 2017   \n",
       "10839     Mature 17+          Books & Reference  January 19, 2015   \n",
       "10840       Everyone                  Lifestyle     July 25, 2018   \n",
       "\n",
       "              Current Ver         Android Ver  \n",
       "0                   1.0.0        4.0.3 and up  \n",
       "1                   2.0.0        4.0.3 and up  \n",
       "2                   1.2.4        4.0.3 and up  \n",
       "3      Varies with device          4.2 and up  \n",
       "4                     1.1          4.4 and up  \n",
       "...                   ...                 ...  \n",
       "10836                1.48          4.1 and up  \n",
       "10837                 1.0          4.1 and up  \n",
       "10838                 1.0          2.2 and up  \n",
       "10839  Varies with device  Varies with device  \n",
       "10840  Varies with device  Varies with device  \n",
       "\n",
       "[10841 rows x 13 columns]"
      ]
     },
     "execution_count": 3,
     "metadata": {},
     "output_type": "execute_result"
    }
   ],
   "source": [
    "df"
   ]
  },
  {
   "cell_type": "code",
   "execution_count": 4,
   "metadata": {},
   "outputs": [
    {
     "data": {
      "text/plain": [
       "numpy.ndarray"
      ]
     },
     "execution_count": 4,
     "metadata": {},
     "output_type": "execute_result"
    }
   ],
   "source": [
    "type(df.values)"
   ]
  },
  {
   "cell_type": "code",
   "execution_count": 5,
   "metadata": {},
   "outputs": [
    {
     "name": "stdout",
     "output_type": "stream",
     "text": [
      "['Photo Editor & Candy Camera & Grid & ScrapBook' 'ART_AND_DESIGN' 4.1\n",
      " '159' '19M' '10,000+' 'Free' '0' 'Everyone' 'Art & Design'\n",
      " 'January 7, 2018' '1.0.0' '4.0.3 and up']\n"
     ]
    }
   ],
   "source": [
    "data = df.values\n",
    "print(data[0])"
   ]
  },
  {
   "cell_type": "code",
   "execution_count": 6,
   "metadata": {},
   "outputs": [],
   "source": [
    "%matplotlib notebook\n",
    "import matplotlib.pyplot as plt"
   ]
  },
  {
   "cell_type": "markdown",
   "metadata": {},
   "source": [
    "## Data Cleaning"
   ]
  },
  {
   "cell_type": "markdown",
   "metadata": {},
   "source": [
    "### Ranking"
   ]
  },
  {
   "cell_type": "code",
   "execution_count": 7,
   "metadata": {},
   "outputs": [
    {
     "name": "stderr",
     "output_type": "stream",
     "text": [
      "/home/kuldeep/Documents/CNN/cnn/lib/python3.6/site-packages/ipykernel_launcher.py:10: SettingWithCopyWarning: \n",
      "A value is trying to be set on a copy of a slice from a DataFrame\n",
      "\n",
      "See the caveats in the documentation: http://pandas.pydata.org/pandas-docs/stable/user_guide/indexing.html#returning-a-view-versus-a-copy\n",
      "  # Remove the CWD from sys.path while we load stuff.\n",
      "/home/kuldeep/Documents/CNN/cnn/lib/python3.6/site-packages/ipykernel_launcher.py:8: SettingWithCopyWarning: \n",
      "A value is trying to be set on a copy of a slice from a DataFrame\n",
      "\n",
      "See the caveats in the documentation: http://pandas.pydata.org/pandas-docs/stable/user_guide/indexing.html#returning-a-view-versus-a-copy\n",
      "  \n",
      "/home/kuldeep/Documents/CNN/cnn/lib/python3.6/site-packages/ipykernel_launcher.py:12: SettingWithCopyWarning: \n",
      "A value is trying to be set on a copy of a slice from a DataFrame\n",
      "\n",
      "See the caveats in the documentation: http://pandas.pydata.org/pandas-docs/stable/user_guide/indexing.html#returning-a-view-versus-a-copy\n",
      "  if sys.path[0] == '':\n",
      "/home/kuldeep/Documents/CNN/cnn/lib/python3.6/site-packages/ipykernel_launcher.py:6: SettingWithCopyWarning: \n",
      "A value is trying to be set on a copy of a slice from a DataFrame\n",
      "\n",
      "See the caveats in the documentation: http://pandas.pydata.org/pandas-docs/stable/user_guide/indexing.html#returning-a-view-versus-a-copy\n",
      "  \n",
      "/home/kuldeep/Documents/CNN/cnn/lib/python3.6/site-packages/ipykernel_launcher.py:4: SettingWithCopyWarning: \n",
      "A value is trying to be set on a copy of a slice from a DataFrame\n",
      "\n",
      "See the caveats in the documentation: http://pandas.pydata.org/pandas-docs/stable/user_guide/indexing.html#returning-a-view-versus-a-copy\n",
      "  after removing the cwd from sys.path.\n"
     ]
    }
   ],
   "source": [
    "index_remove = []\n",
    "for idx, val in enumerate(df['Rating']):\n",
    "    if val < 0 or val > 5:\n",
    "        df['Rating'][idx] = 5\n",
    "    if val < 3:\n",
    "        df['Rating'][idx] = 2\n",
    "    elif val < 4:\n",
    "        df['Rating'][idx] = 3\n",
    "    elif val < 4.5:\n",
    "        df['Rating'][idx] = 4\n",
    "    elif val <= 5:\n",
    "        df['Rating'][idx] = 5\n",
    "    else:\n",
    "        index_remove.append(idx)"
   ]
  },
  {
   "cell_type": "code",
   "execution_count": 8,
   "metadata": {},
   "outputs": [],
   "source": [
    "df = df.drop(index_remove)"
   ]
  },
  {
   "cell_type": "code",
   "execution_count": 9,
   "metadata": {},
   "outputs": [
    {
     "data": {
      "application/javascript": [
       "/* Put everything inside the global mpl namespace */\n",
       "window.mpl = {};\n",
       "\n",
       "\n",
       "mpl.get_websocket_type = function() {\n",
       "    if (typeof(WebSocket) !== 'undefined') {\n",
       "        return WebSocket;\n",
       "    } else if (typeof(MozWebSocket) !== 'undefined') {\n",
       "        return MozWebSocket;\n",
       "    } else {\n",
       "        alert('Your browser does not have WebSocket support. ' +\n",
       "              'Please try Chrome, Safari or Firefox ≥ 6. ' +\n",
       "              'Firefox 4 and 5 are also supported but you ' +\n",
       "              'have to enable WebSockets in about:config.');\n",
       "    };\n",
       "}\n",
       "\n",
       "mpl.figure = function(figure_id, websocket, ondownload, parent_element) {\n",
       "    this.id = figure_id;\n",
       "\n",
       "    this.ws = websocket;\n",
       "\n",
       "    this.supports_binary = (this.ws.binaryType != undefined);\n",
       "\n",
       "    if (!this.supports_binary) {\n",
       "        var warnings = document.getElementById(\"mpl-warnings\");\n",
       "        if (warnings) {\n",
       "            warnings.style.display = 'block';\n",
       "            warnings.textContent = (\n",
       "                \"This browser does not support binary websocket messages. \" +\n",
       "                    \"Performance may be slow.\");\n",
       "        }\n",
       "    }\n",
       "\n",
       "    this.imageObj = new Image();\n",
       "\n",
       "    this.context = undefined;\n",
       "    this.message = undefined;\n",
       "    this.canvas = undefined;\n",
       "    this.rubberband_canvas = undefined;\n",
       "    this.rubberband_context = undefined;\n",
       "    this.format_dropdown = undefined;\n",
       "\n",
       "    this.image_mode = 'full';\n",
       "\n",
       "    this.root = $('<div/>');\n",
       "    this._root_extra_style(this.root)\n",
       "    this.root.attr('style', 'display: inline-block');\n",
       "\n",
       "    $(parent_element).append(this.root);\n",
       "\n",
       "    this._init_header(this);\n",
       "    this._init_canvas(this);\n",
       "    this._init_toolbar(this);\n",
       "\n",
       "    var fig = this;\n",
       "\n",
       "    this.waiting = false;\n",
       "\n",
       "    this.ws.onopen =  function () {\n",
       "            fig.send_message(\"supports_binary\", {value: fig.supports_binary});\n",
       "            fig.send_message(\"send_image_mode\", {});\n",
       "            if (mpl.ratio != 1) {\n",
       "                fig.send_message(\"set_dpi_ratio\", {'dpi_ratio': mpl.ratio});\n",
       "            }\n",
       "            fig.send_message(\"refresh\", {});\n",
       "        }\n",
       "\n",
       "    this.imageObj.onload = function() {\n",
       "            if (fig.image_mode == 'full') {\n",
       "                // Full images could contain transparency (where diff images\n",
       "                // almost always do), so we need to clear the canvas so that\n",
       "                // there is no ghosting.\n",
       "                fig.context.clearRect(0, 0, fig.canvas.width, fig.canvas.height);\n",
       "            }\n",
       "            fig.context.drawImage(fig.imageObj, 0, 0);\n",
       "        };\n",
       "\n",
       "    this.imageObj.onunload = function() {\n",
       "        fig.ws.close();\n",
       "    }\n",
       "\n",
       "    this.ws.onmessage = this._make_on_message_function(this);\n",
       "\n",
       "    this.ondownload = ondownload;\n",
       "}\n",
       "\n",
       "mpl.figure.prototype._init_header = function() {\n",
       "    var titlebar = $(\n",
       "        '<div class=\"ui-dialog-titlebar ui-widget-header ui-corner-all ' +\n",
       "        'ui-helper-clearfix\"/>');\n",
       "    var titletext = $(\n",
       "        '<div class=\"ui-dialog-title\" style=\"width: 100%; ' +\n",
       "        'text-align: center; padding: 3px;\"/>');\n",
       "    titlebar.append(titletext)\n",
       "    this.root.append(titlebar);\n",
       "    this.header = titletext[0];\n",
       "}\n",
       "\n",
       "\n",
       "\n",
       "mpl.figure.prototype._canvas_extra_style = function(canvas_div) {\n",
       "\n",
       "}\n",
       "\n",
       "\n",
       "mpl.figure.prototype._root_extra_style = function(canvas_div) {\n",
       "\n",
       "}\n",
       "\n",
       "mpl.figure.prototype._init_canvas = function() {\n",
       "    var fig = this;\n",
       "\n",
       "    var canvas_div = $('<div/>');\n",
       "\n",
       "    canvas_div.attr('style', 'position: relative; clear: both; outline: 0');\n",
       "\n",
       "    function canvas_keyboard_event(event) {\n",
       "        return fig.key_event(event, event['data']);\n",
       "    }\n",
       "\n",
       "    canvas_div.keydown('key_press', canvas_keyboard_event);\n",
       "    canvas_div.keyup('key_release', canvas_keyboard_event);\n",
       "    this.canvas_div = canvas_div\n",
       "    this._canvas_extra_style(canvas_div)\n",
       "    this.root.append(canvas_div);\n",
       "\n",
       "    var canvas = $('<canvas/>');\n",
       "    canvas.addClass('mpl-canvas');\n",
       "    canvas.attr('style', \"left: 0; top: 0; z-index: 0; outline: 0\")\n",
       "\n",
       "    this.canvas = canvas[0];\n",
       "    this.context = canvas[0].getContext(\"2d\");\n",
       "\n",
       "    var backingStore = this.context.backingStorePixelRatio ||\n",
       "\tthis.context.webkitBackingStorePixelRatio ||\n",
       "\tthis.context.mozBackingStorePixelRatio ||\n",
       "\tthis.context.msBackingStorePixelRatio ||\n",
       "\tthis.context.oBackingStorePixelRatio ||\n",
       "\tthis.context.backingStorePixelRatio || 1;\n",
       "\n",
       "    mpl.ratio = (window.devicePixelRatio || 1) / backingStore;\n",
       "\n",
       "    var rubberband = $('<canvas/>');\n",
       "    rubberband.attr('style', \"position: absolute; left: 0; top: 0; z-index: 1;\")\n",
       "\n",
       "    var pass_mouse_events = true;\n",
       "\n",
       "    canvas_div.resizable({\n",
       "        start: function(event, ui) {\n",
       "            pass_mouse_events = false;\n",
       "        },\n",
       "        resize: function(event, ui) {\n",
       "            fig.request_resize(ui.size.width, ui.size.height);\n",
       "        },\n",
       "        stop: function(event, ui) {\n",
       "            pass_mouse_events = true;\n",
       "            fig.request_resize(ui.size.width, ui.size.height);\n",
       "        },\n",
       "    });\n",
       "\n",
       "    function mouse_event_fn(event) {\n",
       "        if (pass_mouse_events)\n",
       "            return fig.mouse_event(event, event['data']);\n",
       "    }\n",
       "\n",
       "    rubberband.mousedown('button_press', mouse_event_fn);\n",
       "    rubberband.mouseup('button_release', mouse_event_fn);\n",
       "    // Throttle sequential mouse events to 1 every 20ms.\n",
       "    rubberband.mousemove('motion_notify', mouse_event_fn);\n",
       "\n",
       "    rubberband.mouseenter('figure_enter', mouse_event_fn);\n",
       "    rubberband.mouseleave('figure_leave', mouse_event_fn);\n",
       "\n",
       "    canvas_div.on(\"wheel\", function (event) {\n",
       "        event = event.originalEvent;\n",
       "        event['data'] = 'scroll'\n",
       "        if (event.deltaY < 0) {\n",
       "            event.step = 1;\n",
       "        } else {\n",
       "            event.step = -1;\n",
       "        }\n",
       "        mouse_event_fn(event);\n",
       "    });\n",
       "\n",
       "    canvas_div.append(canvas);\n",
       "    canvas_div.append(rubberband);\n",
       "\n",
       "    this.rubberband = rubberband;\n",
       "    this.rubberband_canvas = rubberband[0];\n",
       "    this.rubberband_context = rubberband[0].getContext(\"2d\");\n",
       "    this.rubberband_context.strokeStyle = \"#000000\";\n",
       "\n",
       "    this._resize_canvas = function(width, height) {\n",
       "        // Keep the size of the canvas, canvas container, and rubber band\n",
       "        // canvas in synch.\n",
       "        canvas_div.css('width', width)\n",
       "        canvas_div.css('height', height)\n",
       "\n",
       "        canvas.attr('width', width * mpl.ratio);\n",
       "        canvas.attr('height', height * mpl.ratio);\n",
       "        canvas.attr('style', 'width: ' + width + 'px; height: ' + height + 'px;');\n",
       "\n",
       "        rubberband.attr('width', width);\n",
       "        rubberband.attr('height', height);\n",
       "    }\n",
       "\n",
       "    // Set the figure to an initial 600x600px, this will subsequently be updated\n",
       "    // upon first draw.\n",
       "    this._resize_canvas(600, 600);\n",
       "\n",
       "    // Disable right mouse context menu.\n",
       "    $(this.rubberband_canvas).bind(\"contextmenu\",function(e){\n",
       "        return false;\n",
       "    });\n",
       "\n",
       "    function set_focus () {\n",
       "        canvas.focus();\n",
       "        canvas_div.focus();\n",
       "    }\n",
       "\n",
       "    window.setTimeout(set_focus, 100);\n",
       "}\n",
       "\n",
       "mpl.figure.prototype._init_toolbar = function() {\n",
       "    var fig = this;\n",
       "\n",
       "    var nav_element = $('<div/>');\n",
       "    nav_element.attr('style', 'width: 100%');\n",
       "    this.root.append(nav_element);\n",
       "\n",
       "    // Define a callback function for later on.\n",
       "    function toolbar_event(event) {\n",
       "        return fig.toolbar_button_onclick(event['data']);\n",
       "    }\n",
       "    function toolbar_mouse_event(event) {\n",
       "        return fig.toolbar_button_onmouseover(event['data']);\n",
       "    }\n",
       "\n",
       "    for(var toolbar_ind in mpl.toolbar_items) {\n",
       "        var name = mpl.toolbar_items[toolbar_ind][0];\n",
       "        var tooltip = mpl.toolbar_items[toolbar_ind][1];\n",
       "        var image = mpl.toolbar_items[toolbar_ind][2];\n",
       "        var method_name = mpl.toolbar_items[toolbar_ind][3];\n",
       "\n",
       "        if (!name) {\n",
       "            // put a spacer in here.\n",
       "            continue;\n",
       "        }\n",
       "        var button = $('<button/>');\n",
       "        button.addClass('ui-button ui-widget ui-state-default ui-corner-all ' +\n",
       "                        'ui-button-icon-only');\n",
       "        button.attr('role', 'button');\n",
       "        button.attr('aria-disabled', 'false');\n",
       "        button.click(method_name, toolbar_event);\n",
       "        button.mouseover(tooltip, toolbar_mouse_event);\n",
       "\n",
       "        var icon_img = $('<span/>');\n",
       "        icon_img.addClass('ui-button-icon-primary ui-icon');\n",
       "        icon_img.addClass(image);\n",
       "        icon_img.addClass('ui-corner-all');\n",
       "\n",
       "        var tooltip_span = $('<span/>');\n",
       "        tooltip_span.addClass('ui-button-text');\n",
       "        tooltip_span.html(tooltip);\n",
       "\n",
       "        button.append(icon_img);\n",
       "        button.append(tooltip_span);\n",
       "\n",
       "        nav_element.append(button);\n",
       "    }\n",
       "\n",
       "    var fmt_picker_span = $('<span/>');\n",
       "\n",
       "    var fmt_picker = $('<select/>');\n",
       "    fmt_picker.addClass('mpl-toolbar-option ui-widget ui-widget-content');\n",
       "    fmt_picker_span.append(fmt_picker);\n",
       "    nav_element.append(fmt_picker_span);\n",
       "    this.format_dropdown = fmt_picker[0];\n",
       "\n",
       "    for (var ind in mpl.extensions) {\n",
       "        var fmt = mpl.extensions[ind];\n",
       "        var option = $(\n",
       "            '<option/>', {selected: fmt === mpl.default_extension}).html(fmt);\n",
       "        fmt_picker.append(option);\n",
       "    }\n",
       "\n",
       "    // Add hover states to the ui-buttons\n",
       "    $( \".ui-button\" ).hover(\n",
       "        function() { $(this).addClass(\"ui-state-hover\");},\n",
       "        function() { $(this).removeClass(\"ui-state-hover\");}\n",
       "    );\n",
       "\n",
       "    var status_bar = $('<span class=\"mpl-message\"/>');\n",
       "    nav_element.append(status_bar);\n",
       "    this.message = status_bar[0];\n",
       "}\n",
       "\n",
       "mpl.figure.prototype.request_resize = function(x_pixels, y_pixels) {\n",
       "    // Request matplotlib to resize the figure. Matplotlib will then trigger a resize in the client,\n",
       "    // which will in turn request a refresh of the image.\n",
       "    this.send_message('resize', {'width': x_pixels, 'height': y_pixels});\n",
       "}\n",
       "\n",
       "mpl.figure.prototype.send_message = function(type, properties) {\n",
       "    properties['type'] = type;\n",
       "    properties['figure_id'] = this.id;\n",
       "    this.ws.send(JSON.stringify(properties));\n",
       "}\n",
       "\n",
       "mpl.figure.prototype.send_draw_message = function() {\n",
       "    if (!this.waiting) {\n",
       "        this.waiting = true;\n",
       "        this.ws.send(JSON.stringify({type: \"draw\", figure_id: this.id}));\n",
       "    }\n",
       "}\n",
       "\n",
       "\n",
       "mpl.figure.prototype.handle_save = function(fig, msg) {\n",
       "    var format_dropdown = fig.format_dropdown;\n",
       "    var format = format_dropdown.options[format_dropdown.selectedIndex].value;\n",
       "    fig.ondownload(fig, format);\n",
       "}\n",
       "\n",
       "\n",
       "mpl.figure.prototype.handle_resize = function(fig, msg) {\n",
       "    var size = msg['size'];\n",
       "    if (size[0] != fig.canvas.width || size[1] != fig.canvas.height) {\n",
       "        fig._resize_canvas(size[0], size[1]);\n",
       "        fig.send_message(\"refresh\", {});\n",
       "    };\n",
       "}\n",
       "\n",
       "mpl.figure.prototype.handle_rubberband = function(fig, msg) {\n",
       "    var x0 = msg['x0'] / mpl.ratio;\n",
       "    var y0 = (fig.canvas.height - msg['y0']) / mpl.ratio;\n",
       "    var x1 = msg['x1'] / mpl.ratio;\n",
       "    var y1 = (fig.canvas.height - msg['y1']) / mpl.ratio;\n",
       "    x0 = Math.floor(x0) + 0.5;\n",
       "    y0 = Math.floor(y0) + 0.5;\n",
       "    x1 = Math.floor(x1) + 0.5;\n",
       "    y1 = Math.floor(y1) + 0.5;\n",
       "    var min_x = Math.min(x0, x1);\n",
       "    var min_y = Math.min(y0, y1);\n",
       "    var width = Math.abs(x1 - x0);\n",
       "    var height = Math.abs(y1 - y0);\n",
       "\n",
       "    fig.rubberband_context.clearRect(\n",
       "        0, 0, fig.canvas.width / mpl.ratio, fig.canvas.height / mpl.ratio);\n",
       "\n",
       "    fig.rubberband_context.strokeRect(min_x, min_y, width, height);\n",
       "}\n",
       "\n",
       "mpl.figure.prototype.handle_figure_label = function(fig, msg) {\n",
       "    // Updates the figure title.\n",
       "    fig.header.textContent = msg['label'];\n",
       "}\n",
       "\n",
       "mpl.figure.prototype.handle_cursor = function(fig, msg) {\n",
       "    var cursor = msg['cursor'];\n",
       "    switch(cursor)\n",
       "    {\n",
       "    case 0:\n",
       "        cursor = 'pointer';\n",
       "        break;\n",
       "    case 1:\n",
       "        cursor = 'default';\n",
       "        break;\n",
       "    case 2:\n",
       "        cursor = 'crosshair';\n",
       "        break;\n",
       "    case 3:\n",
       "        cursor = 'move';\n",
       "        break;\n",
       "    }\n",
       "    fig.rubberband_canvas.style.cursor = cursor;\n",
       "}\n",
       "\n",
       "mpl.figure.prototype.handle_message = function(fig, msg) {\n",
       "    fig.message.textContent = msg['message'];\n",
       "}\n",
       "\n",
       "mpl.figure.prototype.handle_draw = function(fig, msg) {\n",
       "    // Request the server to send over a new figure.\n",
       "    fig.send_draw_message();\n",
       "}\n",
       "\n",
       "mpl.figure.prototype.handle_image_mode = function(fig, msg) {\n",
       "    fig.image_mode = msg['mode'];\n",
       "}\n",
       "\n",
       "mpl.figure.prototype.updated_canvas_event = function() {\n",
       "    // Called whenever the canvas gets updated.\n",
       "    this.send_message(\"ack\", {});\n",
       "}\n",
       "\n",
       "// A function to construct a web socket function for onmessage handling.\n",
       "// Called in the figure constructor.\n",
       "mpl.figure.prototype._make_on_message_function = function(fig) {\n",
       "    return function socket_on_message(evt) {\n",
       "        if (evt.data instanceof Blob) {\n",
       "            /* FIXME: We get \"Resource interpreted as Image but\n",
       "             * transferred with MIME type text/plain:\" errors on\n",
       "             * Chrome.  But how to set the MIME type?  It doesn't seem\n",
       "             * to be part of the websocket stream */\n",
       "            evt.data.type = \"image/png\";\n",
       "\n",
       "            /* Free the memory for the previous frames */\n",
       "            if (fig.imageObj.src) {\n",
       "                (window.URL || window.webkitURL).revokeObjectURL(\n",
       "                    fig.imageObj.src);\n",
       "            }\n",
       "\n",
       "            fig.imageObj.src = (window.URL || window.webkitURL).createObjectURL(\n",
       "                evt.data);\n",
       "            fig.updated_canvas_event();\n",
       "            fig.waiting = false;\n",
       "            return;\n",
       "        }\n",
       "        else if (typeof evt.data === 'string' && evt.data.slice(0, 21) == \"data:image/png;base64\") {\n",
       "            fig.imageObj.src = evt.data;\n",
       "            fig.updated_canvas_event();\n",
       "            fig.waiting = false;\n",
       "            return;\n",
       "        }\n",
       "\n",
       "        var msg = JSON.parse(evt.data);\n",
       "        var msg_type = msg['type'];\n",
       "\n",
       "        // Call the  \"handle_{type}\" callback, which takes\n",
       "        // the figure and JSON message as its only arguments.\n",
       "        try {\n",
       "            var callback = fig[\"handle_\" + msg_type];\n",
       "        } catch (e) {\n",
       "            console.log(\"No handler for the '\" + msg_type + \"' message type: \", msg);\n",
       "            return;\n",
       "        }\n",
       "\n",
       "        if (callback) {\n",
       "            try {\n",
       "                // console.log(\"Handling '\" + msg_type + \"' message: \", msg);\n",
       "                callback(fig, msg);\n",
       "            } catch (e) {\n",
       "                console.log(\"Exception inside the 'handler_\" + msg_type + \"' callback:\", e, e.stack, msg);\n",
       "            }\n",
       "        }\n",
       "    };\n",
       "}\n",
       "\n",
       "// from http://stackoverflow.com/questions/1114465/getting-mouse-location-in-canvas\n",
       "mpl.findpos = function(e) {\n",
       "    //this section is from http://www.quirksmode.org/js/events_properties.html\n",
       "    var targ;\n",
       "    if (!e)\n",
       "        e = window.event;\n",
       "    if (e.target)\n",
       "        targ = e.target;\n",
       "    else if (e.srcElement)\n",
       "        targ = e.srcElement;\n",
       "    if (targ.nodeType == 3) // defeat Safari bug\n",
       "        targ = targ.parentNode;\n",
       "\n",
       "    // jQuery normalizes the pageX and pageY\n",
       "    // pageX,Y are the mouse positions relative to the document\n",
       "    // offset() returns the position of the element relative to the document\n",
       "    var x = e.pageX - $(targ).offset().left;\n",
       "    var y = e.pageY - $(targ).offset().top;\n",
       "\n",
       "    return {\"x\": x, \"y\": y};\n",
       "};\n",
       "\n",
       "/*\n",
       " * return a copy of an object with only non-object keys\n",
       " * we need this to avoid circular references\n",
       " * http://stackoverflow.com/a/24161582/3208463\n",
       " */\n",
       "function simpleKeys (original) {\n",
       "  return Object.keys(original).reduce(function (obj, key) {\n",
       "    if (typeof original[key] !== 'object')\n",
       "        obj[key] = original[key]\n",
       "    return obj;\n",
       "  }, {});\n",
       "}\n",
       "\n",
       "mpl.figure.prototype.mouse_event = function(event, name) {\n",
       "    var canvas_pos = mpl.findpos(event)\n",
       "\n",
       "    if (name === 'button_press')\n",
       "    {\n",
       "        this.canvas.focus();\n",
       "        this.canvas_div.focus();\n",
       "    }\n",
       "\n",
       "    var x = canvas_pos.x * mpl.ratio;\n",
       "    var y = canvas_pos.y * mpl.ratio;\n",
       "\n",
       "    this.send_message(name, {x: x, y: y, button: event.button,\n",
       "                             step: event.step,\n",
       "                             guiEvent: simpleKeys(event)});\n",
       "\n",
       "    /* This prevents the web browser from automatically changing to\n",
       "     * the text insertion cursor when the button is pressed.  We want\n",
       "     * to control all of the cursor setting manually through the\n",
       "     * 'cursor' event from matplotlib */\n",
       "    event.preventDefault();\n",
       "    return false;\n",
       "}\n",
       "\n",
       "mpl.figure.prototype._key_event_extra = function(event, name) {\n",
       "    // Handle any extra behaviour associated with a key event\n",
       "}\n",
       "\n",
       "mpl.figure.prototype.key_event = function(event, name) {\n",
       "\n",
       "    // Prevent repeat events\n",
       "    if (name == 'key_press')\n",
       "    {\n",
       "        if (event.which === this._key)\n",
       "            return;\n",
       "        else\n",
       "            this._key = event.which;\n",
       "    }\n",
       "    if (name == 'key_release')\n",
       "        this._key = null;\n",
       "\n",
       "    var value = '';\n",
       "    if (event.ctrlKey && event.which != 17)\n",
       "        value += \"ctrl+\";\n",
       "    if (event.altKey && event.which != 18)\n",
       "        value += \"alt+\";\n",
       "    if (event.shiftKey && event.which != 16)\n",
       "        value += \"shift+\";\n",
       "\n",
       "    value += 'k';\n",
       "    value += event.which.toString();\n",
       "\n",
       "    this._key_event_extra(event, name);\n",
       "\n",
       "    this.send_message(name, {key: value,\n",
       "                             guiEvent: simpleKeys(event)});\n",
       "    return false;\n",
       "}\n",
       "\n",
       "mpl.figure.prototype.toolbar_button_onclick = function(name) {\n",
       "    if (name == 'download') {\n",
       "        this.handle_save(this, null);\n",
       "    } else {\n",
       "        this.send_message(\"toolbar_button\", {name: name});\n",
       "    }\n",
       "};\n",
       "\n",
       "mpl.figure.prototype.toolbar_button_onmouseover = function(tooltip) {\n",
       "    this.message.textContent = tooltip;\n",
       "};\n",
       "mpl.toolbar_items = [[\"Home\", \"Reset original view\", \"fa fa-home icon-home\", \"home\"], [\"Back\", \"Back to previous view\", \"fa fa-arrow-left icon-arrow-left\", \"back\"], [\"Forward\", \"Forward to next view\", \"fa fa-arrow-right icon-arrow-right\", \"forward\"], [\"\", \"\", \"\", \"\"], [\"Pan\", \"Pan axes with left mouse, zoom with right\", \"fa fa-arrows icon-move\", \"pan\"], [\"Zoom\", \"Zoom to rectangle\", \"fa fa-square-o icon-check-empty\", \"zoom\"], [\"\", \"\", \"\", \"\"], [\"Download\", \"Download plot\", \"fa fa-floppy-o icon-save\", \"download\"]];\n",
       "\n",
       "mpl.extensions = [\"eps\", \"jpeg\", \"pdf\", \"png\", \"ps\", \"raw\", \"svg\", \"tif\"];\n",
       "\n",
       "mpl.default_extension = \"png\";var comm_websocket_adapter = function(comm) {\n",
       "    // Create a \"websocket\"-like object which calls the given IPython comm\n",
       "    // object with the appropriate methods. Currently this is a non binary\n",
       "    // socket, so there is still some room for performance tuning.\n",
       "    var ws = {};\n",
       "\n",
       "    ws.close = function() {\n",
       "        comm.close()\n",
       "    };\n",
       "    ws.send = function(m) {\n",
       "        //console.log('sending', m);\n",
       "        comm.send(m);\n",
       "    };\n",
       "    // Register the callback with on_msg.\n",
       "    comm.on_msg(function(msg) {\n",
       "        //console.log('receiving', msg['content']['data'], msg);\n",
       "        // Pass the mpl event to the overridden (by mpl) onmessage function.\n",
       "        ws.onmessage(msg['content']['data'])\n",
       "    });\n",
       "    return ws;\n",
       "}\n",
       "\n",
       "mpl.mpl_figure_comm = function(comm, msg) {\n",
       "    // This is the function which gets called when the mpl process\n",
       "    // starts-up an IPython Comm through the \"matplotlib\" channel.\n",
       "\n",
       "    var id = msg.content.data.id;\n",
       "    // Get hold of the div created by the display call when the Comm\n",
       "    // socket was opened in Python.\n",
       "    var element = $(\"#\" + id);\n",
       "    var ws_proxy = comm_websocket_adapter(comm)\n",
       "\n",
       "    function ondownload(figure, format) {\n",
       "        window.open(figure.imageObj.src);\n",
       "    }\n",
       "\n",
       "    var fig = new mpl.figure(id, ws_proxy,\n",
       "                           ondownload,\n",
       "                           element.get(0));\n",
       "\n",
       "    // Call onopen now - mpl needs it, as it is assuming we've passed it a real\n",
       "    // web socket which is closed, not our websocket->open comm proxy.\n",
       "    ws_proxy.onopen();\n",
       "\n",
       "    fig.parent_element = element.get(0);\n",
       "    fig.cell_info = mpl.find_output_cell(\"<div id='\" + id + \"'></div>\");\n",
       "    if (!fig.cell_info) {\n",
       "        console.error(\"Failed to find cell for figure\", id, fig);\n",
       "        return;\n",
       "    }\n",
       "\n",
       "    var output_index = fig.cell_info[2]\n",
       "    var cell = fig.cell_info[0];\n",
       "\n",
       "};\n",
       "\n",
       "mpl.figure.prototype.handle_close = function(fig, msg) {\n",
       "    var width = fig.canvas.width/mpl.ratio\n",
       "    fig.root.unbind('remove')\n",
       "\n",
       "    // Update the output cell to use the data from the current canvas.\n",
       "    fig.push_to_output();\n",
       "    var dataURL = fig.canvas.toDataURL();\n",
       "    // Re-enable the keyboard manager in IPython - without this line, in FF,\n",
       "    // the notebook keyboard shortcuts fail.\n",
       "    IPython.keyboard_manager.enable()\n",
       "    $(fig.parent_element).html('<img src=\"' + dataURL + '\" width=\"' + width + '\">');\n",
       "    fig.close_ws(fig, msg);\n",
       "}\n",
       "\n",
       "mpl.figure.prototype.close_ws = function(fig, msg){\n",
       "    fig.send_message('closing', msg);\n",
       "    // fig.ws.close()\n",
       "}\n",
       "\n",
       "mpl.figure.prototype.push_to_output = function(remove_interactive) {\n",
       "    // Turn the data on the canvas into data in the output cell.\n",
       "    var width = this.canvas.width/mpl.ratio\n",
       "    var dataURL = this.canvas.toDataURL();\n",
       "    this.cell_info[1]['text/html'] = '<img src=\"' + dataURL + '\" width=\"' + width + '\">';\n",
       "}\n",
       "\n",
       "mpl.figure.prototype.updated_canvas_event = function() {\n",
       "    // Tell IPython that the notebook contents must change.\n",
       "    IPython.notebook.set_dirty(true);\n",
       "    this.send_message(\"ack\", {});\n",
       "    var fig = this;\n",
       "    // Wait a second, then push the new image to the DOM so\n",
       "    // that it is saved nicely (might be nice to debounce this).\n",
       "    setTimeout(function () { fig.push_to_output() }, 1000);\n",
       "}\n",
       "\n",
       "mpl.figure.prototype._init_toolbar = function() {\n",
       "    var fig = this;\n",
       "\n",
       "    var nav_element = $('<div/>');\n",
       "    nav_element.attr('style', 'width: 100%');\n",
       "    this.root.append(nav_element);\n",
       "\n",
       "    // Define a callback function for later on.\n",
       "    function toolbar_event(event) {\n",
       "        return fig.toolbar_button_onclick(event['data']);\n",
       "    }\n",
       "    function toolbar_mouse_event(event) {\n",
       "        return fig.toolbar_button_onmouseover(event['data']);\n",
       "    }\n",
       "\n",
       "    for(var toolbar_ind in mpl.toolbar_items){\n",
       "        var name = mpl.toolbar_items[toolbar_ind][0];\n",
       "        var tooltip = mpl.toolbar_items[toolbar_ind][1];\n",
       "        var image = mpl.toolbar_items[toolbar_ind][2];\n",
       "        var method_name = mpl.toolbar_items[toolbar_ind][3];\n",
       "\n",
       "        if (!name) { continue; };\n",
       "\n",
       "        var button = $('<button class=\"btn btn-default\" href=\"#\" title=\"' + name + '\"><i class=\"fa ' + image + ' fa-lg\"></i></button>');\n",
       "        button.click(method_name, toolbar_event);\n",
       "        button.mouseover(tooltip, toolbar_mouse_event);\n",
       "        nav_element.append(button);\n",
       "    }\n",
       "\n",
       "    // Add the status bar.\n",
       "    var status_bar = $('<span class=\"mpl-message\" style=\"text-align:right; float: right;\"/>');\n",
       "    nav_element.append(status_bar);\n",
       "    this.message = status_bar[0];\n",
       "\n",
       "    // Add the close button to the window.\n",
       "    var buttongrp = $('<div class=\"btn-group inline pull-right\"></div>');\n",
       "    var button = $('<button class=\"btn btn-mini btn-primary\" href=\"#\" title=\"Stop Interaction\"><i class=\"fa fa-power-off icon-remove icon-large\"></i></button>');\n",
       "    button.click(function (evt) { fig.handle_close(fig, {}); } );\n",
       "    button.mouseover('Stop Interaction', toolbar_mouse_event);\n",
       "    buttongrp.append(button);\n",
       "    var titlebar = this.root.find($('.ui-dialog-titlebar'));\n",
       "    titlebar.prepend(buttongrp);\n",
       "}\n",
       "\n",
       "mpl.figure.prototype._root_extra_style = function(el){\n",
       "    var fig = this\n",
       "    el.on(\"remove\", function(){\n",
       "\tfig.close_ws(fig, {});\n",
       "    });\n",
       "}\n",
       "\n",
       "mpl.figure.prototype._canvas_extra_style = function(el){\n",
       "    // this is important to make the div 'focusable\n",
       "    el.attr('tabindex', 0)\n",
       "    // reach out to IPython and tell the keyboard manager to turn it's self\n",
       "    // off when our div gets focus\n",
       "\n",
       "    // location in version 3\n",
       "    if (IPython.notebook.keyboard_manager) {\n",
       "        IPython.notebook.keyboard_manager.register_events(el);\n",
       "    }\n",
       "    else {\n",
       "        // location in version 2\n",
       "        IPython.keyboard_manager.register_events(el);\n",
       "    }\n",
       "\n",
       "}\n",
       "\n",
       "mpl.figure.prototype._key_event_extra = function(event, name) {\n",
       "    var manager = IPython.notebook.keyboard_manager;\n",
       "    if (!manager)\n",
       "        manager = IPython.keyboard_manager;\n",
       "\n",
       "    // Check for shift+enter\n",
       "    if (event.shiftKey && event.which == 13) {\n",
       "        this.canvas_div.blur();\n",
       "        event.shiftKey = false;\n",
       "        // Send a \"J\" for go to next cell\n",
       "        event.which = 74;\n",
       "        event.keyCode = 74;\n",
       "        manager.command_mode();\n",
       "        manager.handle_keydown(event);\n",
       "    }\n",
       "}\n",
       "\n",
       "mpl.figure.prototype.handle_save = function(fig, msg) {\n",
       "    fig.ondownload(fig, null);\n",
       "}\n",
       "\n",
       "\n",
       "mpl.find_output_cell = function(html_output) {\n",
       "    // Return the cell and output element which can be found *uniquely* in the notebook.\n",
       "    // Note - this is a bit hacky, but it is done because the \"notebook_saving.Notebook\"\n",
       "    // IPython event is triggered only after the cells have been serialised, which for\n",
       "    // our purposes (turning an active figure into a static one), is too late.\n",
       "    var cells = IPython.notebook.get_cells();\n",
       "    var ncells = cells.length;\n",
       "    for (var i=0; i<ncells; i++) {\n",
       "        var cell = cells[i];\n",
       "        if (cell.cell_type === 'code'){\n",
       "            for (var j=0; j<cell.output_area.outputs.length; j++) {\n",
       "                var data = cell.output_area.outputs[j];\n",
       "                if (data.data) {\n",
       "                    // IPython >= 3 moved mimebundle to data attribute of output\n",
       "                    data = data.data;\n",
       "                }\n",
       "                if (data['text/html'] == html_output) {\n",
       "                    return [cell, data, j];\n",
       "                }\n",
       "            }\n",
       "        }\n",
       "    }\n",
       "}\n",
       "\n",
       "// Register the function which deals with the matplotlib target/channel.\n",
       "// The kernel may be null if the page has been refreshed.\n",
       "if (IPython.notebook.kernel != null) {\n",
       "    IPython.notebook.kernel.comm_manager.register_target('matplotlib', mpl.mpl_figure_comm);\n",
       "}\n"
      ],
      "text/plain": [
       "<IPython.core.display.Javascript object>"
      ]
     },
     "metadata": {},
     "output_type": "display_data"
    },
    {
     "data": {
      "text/html": [
       "<img src=\"data:image/png;base64,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\" width=\"432\">"
      ],
      "text/plain": [
       "<IPython.core.display.HTML object>"
      ]
     },
     "metadata": {},
     "output_type": "display_data"
    },
    {
     "data": {
      "text/plain": [
       "<matplotlib.axes._subplots.AxesSubplot at 0x7f9ba2f67908>"
      ]
     },
     "execution_count": 9,
     "metadata": {},
     "output_type": "execute_result"
    }
   ],
   "source": [
    "df['Rating'].hist()"
   ]
  },
  {
   "cell_type": "code",
   "execution_count": null,
   "metadata": {},
   "outputs": [],
   "source": []
  },
  {
   "cell_type": "code",
   "execution_count": 10,
   "metadata": {},
   "outputs": [
    {
     "name": "stdout",
     "output_type": "stream",
     "text": [
      "Category ['GAME', 'HOUSE_AND_HOME', 'FINANCE', 'ART_AND_DESIGN', 'MEDICAL', 'SOCIAL', 'ENTERTAINMENT', 'EDUCATION', 'AUTO_AND_VEHICLES', 'FAMILY', 'NEWS_AND_MAGAZINES', 'EVENTS', 'WEATHER', 'TOOLS', 'PARENTING', 'LIFESTYLE', 'LIBRARIES_AND_DEMO', 'BEAUTY', 'SPORTS', 'PERSONALIZATION', 'BUSINESS', 'PHOTOGRAPHY', 'PRODUCTIVITY', 'HEALTH_AND_FITNESS', 'TRAVEL_AND_LOCAL', 'DATING', 'COMMUNICATION', 'SHOPPING', 'VIDEO_PLAYERS', 'COMICS', 'MAPS_AND_NAVIGATION', 'FOOD_AND_DRINK', 'BOOKS_AND_REFERENCE']\n",
      "Content Rating ['Adults only 18+', 'Mature 17+', 'Everyone 10+', 'Teen', 'Everyone', 'Unrated']\n",
      "Type ['Free', 'Paid']\n",
      "Android Ver [nan, '5.0 - 6.0', 'Varies with device', '2.0.1 and up', '2.3 and up', '6.0 and up', '4.3 and up', '5.0 - 8.0', '5.0 and up', '3.2 and up', '2.1 and up', '2.0 and up', '3.0 and up', '4.0 and up', '7.1 and up', '4.0.3 and up', '7.0 and up', '1.6 and up', '4.4 and up', '4.4W and up', '5.1 and up', '2.2 and up', '3.1 and up', '4.1 and up', '1.0 and up', '1.5 and up', '2.3.3 and up', '4.0.3 - 7.1.1', '4.2 and up', '8.0 and up', '4.1 - 7.1.1', '7.0 - 7.1.1']\n"
     ]
    }
   ],
   "source": [
    "features = ['Category', 'Content Rating', 'Type', 'Android Ver']\n",
    "for f in features:\n",
    "    set_ = set(df[f])\n",
    "    print(f , list(set_))"
   ]
  },
  {
   "cell_type": "markdown",
   "metadata": {},
   "source": [
    "### Sizes"
   ]
  },
  {
   "cell_type": "code",
   "execution_count": 11,
   "metadata": {},
   "outputs": [],
   "source": [
    "def preprocess_size(sizes):\n",
    "    sizes = sizes.apply(lambda x: str(x).replace('Varies with device', '0') if 'Varies with device' in str(x) else x)\n",
    "    sizes = sizes.apply(lambda x: str(x).replace('M', '') if 'M' in str(x) else x)\n",
    "    sizes = sizes.apply(lambda x: str(x).replace(',', '') if 'M' in str(x) else x)\n",
    "    sizes = sizes.apply(lambda x: str(x).replace('+', '') if '+' in str(x) else x)\n",
    "    sizes = sizes.apply(lambda x: str(x).replace(',', '') if ',' in str(x) else x)\n",
    "    sizes = sizes.apply(lambda x: float(str(x).replace('k', '')) / 1000 if 'k' in str(x) else x)\n",
    "    sizes = sizes.apply(lambda x: float(x))\n",
    "    return sizes"
   ]
  },
  {
   "cell_type": "code",
   "execution_count": 12,
   "metadata": {},
   "outputs": [
    {
     "data": {
      "text/plain": [
       "0                       19M\n",
       "1                       14M\n",
       "2                      8.7M\n",
       "3                       25M\n",
       "4                      2.8M\n",
       "                ...        \n",
       "10834                  2.6M\n",
       "10836                   53M\n",
       "10837                  3.6M\n",
       "10839    Varies with device\n",
       "10840                   19M\n",
       "Name: Size, Length: 9366, dtype: object"
      ]
     },
     "execution_count": 12,
     "metadata": {},
     "output_type": "execute_result"
    }
   ],
   "source": [
    "df['Size']"
   ]
  },
  {
   "cell_type": "code",
   "execution_count": 13,
   "metadata": {},
   "outputs": [],
   "source": [
    "df['Size'] = preprocess_size(df['Size'])"
   ]
  },
  {
   "cell_type": "code",
   "execution_count": 14,
   "metadata": {},
   "outputs": [
    {
     "data": {
      "text/plain": [
       "0        19.0\n",
       "1        14.0\n",
       "2         8.7\n",
       "3        25.0\n",
       "4         2.8\n",
       "         ... \n",
       "10834     2.6\n",
       "10836    53.0\n",
       "10837     3.6\n",
       "10839     0.0\n",
       "10840    19.0\n",
       "Name: Size, Length: 9366, dtype: float64"
      ]
     },
     "execution_count": 14,
     "metadata": {},
     "output_type": "execute_result"
    }
   ],
   "source": [
    "df['Size']"
   ]
  },
  {
   "cell_type": "markdown",
   "metadata": {},
   "source": [
    "### Installs"
   ]
  },
  {
   "cell_type": "code",
   "execution_count": 15,
   "metadata": {
    "scrolled": true
   },
   "outputs": [
    {
     "data": {
      "text/plain": [
       "0            10,000+\n",
       "1           500,000+\n",
       "2         5,000,000+\n",
       "3        50,000,000+\n",
       "4           100,000+\n",
       "            ...     \n",
       "10834           500+\n",
       "10836         5,000+\n",
       "10837           100+\n",
       "10839         1,000+\n",
       "10840    10,000,000+\n",
       "Name: Installs, Length: 9366, dtype: object"
      ]
     },
     "execution_count": 15,
     "metadata": {},
     "output_type": "execute_result"
    }
   ],
   "source": [
    "df['Installs']"
   ]
  },
  {
   "cell_type": "code",
   "execution_count": 16,
   "metadata": {},
   "outputs": [],
   "source": [
    "def preprocess_install(installs):\n",
    "    installs = installs.apply(lambda x: x.replace('+', '') if '+' in str(x) else x)\n",
    "    installs = installs.apply(lambda x: x.replace(',', '') if ',' in str(x) else x)\n",
    "    installs = installs.apply(lambda x: int(x))\n",
    "    return installs"
   ]
  },
  {
   "cell_type": "code",
   "execution_count": 17,
   "metadata": {},
   "outputs": [],
   "source": [
    "df['Installs']  = preprocess_install(df['Installs'])"
   ]
  },
  {
   "cell_type": "markdown",
   "metadata": {},
   "source": [
    "### Types"
   ]
  },
  {
   "cell_type": "code",
   "execution_count": 18,
   "metadata": {},
   "outputs": [],
   "source": [
    "def preprocess_type(types):\n",
    "    types = types.apply(lambda x: x.replace('Free', '0') if 'Free' in str(x) else '1')\n",
    "    return types.apply(lambda x: int(x))"
   ]
  },
  {
   "cell_type": "code",
   "execution_count": 19,
   "metadata": {},
   "outputs": [],
   "source": [
    "df['Type'] = preprocess_type(df['Type'])"
   ]
  },
  {
   "cell_type": "code",
   "execution_count": 20,
   "metadata": {},
   "outputs": [
    {
     "data": {
      "text/plain": [
       "0    8719\n",
       "1     647\n",
       "Name: Type, dtype: int64"
      ]
     },
     "execution_count": 20,
     "metadata": {},
     "output_type": "execute_result"
    }
   ],
   "source": [
    "df['Type'].value_counts()"
   ]
  },
  {
   "cell_type": "markdown",
   "metadata": {},
   "source": [
    "### Content Rating"
   ]
  },
  {
   "cell_type": "code",
   "execution_count": 21,
   "metadata": {},
   "outputs": [
    {
     "data": {
      "text/plain": [
       "Everyone           7420\n",
       "Teen               1084\n",
       "Mature 17+          461\n",
       "Everyone 10+        397\n",
       "Adults only 18+       3\n",
       "Unrated               1\n",
       "Name: Content Rating, dtype: int64"
      ]
     },
     "execution_count": 21,
     "metadata": {},
     "output_type": "execute_result"
    }
   ],
   "source": [
    "df['Content Rating'].value_counts()"
   ]
  },
  {
   "cell_type": "code",
   "execution_count": 22,
   "metadata": {},
   "outputs": [],
   "source": [
    "def preprocess_content_rating(crs):\n",
    "    crs = crs.apply(lambda x: x.replace('Unrated', 'Everyone') if 'Unrated' in str(x) else x)\n",
    "    crs = crs.apply(lambda x: x.replace('Adults only 18+', 'Mature') if 'Adults only 18+' in str(x) else x)\n",
    "    crs = crs.apply(lambda x: x.replace('Everyone 10+', 'Mature') if 'Everyone 10+' in str(x) else x)\n",
    "    crs = crs.apply(lambda x: x.replace('Mature 17+', 'Mature') if 'Mature 17+' in str(x) else x)\n",
    "    return crs"
   ]
  },
  {
   "cell_type": "code",
   "execution_count": 23,
   "metadata": {},
   "outputs": [],
   "source": [
    "df['Content Rating'] = preprocess_content_rating(df['Content Rating'])"
   ]
  },
  {
   "cell_type": "code",
   "execution_count": 24,
   "metadata": {},
   "outputs": [
    {
     "data": {
      "text/plain": [
       "Everyone    7421\n",
       "Teen        1084\n",
       "Mature       861\n",
       "Name: Content Rating, dtype: int64"
      ]
     },
     "execution_count": 24,
     "metadata": {},
     "output_type": "execute_result"
    }
   ],
   "source": [
    "df['Content Rating'].value_counts()"
   ]
  },
  {
   "cell_type": "code",
   "execution_count": 25,
   "metadata": {},
   "outputs": [
    {
     "data": {
      "text/html": [
       "<div>\n",
       "<style scoped>\n",
       "    .dataframe tbody tr th:only-of-type {\n",
       "        vertical-align: middle;\n",
       "    }\n",
       "\n",
       "    .dataframe tbody tr th {\n",
       "        vertical-align: top;\n",
       "    }\n",
       "\n",
       "    .dataframe thead th {\n",
       "        text-align: right;\n",
       "    }\n",
       "</style>\n",
       "<table border=\"1\" class=\"dataframe\">\n",
       "  <thead>\n",
       "    <tr style=\"text-align: right;\">\n",
       "      <th></th>\n",
       "      <th>Rating</th>\n",
       "      <th>Size</th>\n",
       "      <th>Installs</th>\n",
       "      <th>Type</th>\n",
       "    </tr>\n",
       "  </thead>\n",
       "  <tbody>\n",
       "    <tr>\n",
       "      <td>count</td>\n",
       "      <td>9366.000000</td>\n",
       "      <td>9366.000000</td>\n",
       "      <td>9.366000e+03</td>\n",
       "      <td>9366.000000</td>\n",
       "    </tr>\n",
       "    <tr>\n",
       "      <td>mean</td>\n",
       "      <td>4.071535</td>\n",
       "      <td>18.945051</td>\n",
       "      <td>1.789744e+07</td>\n",
       "      <td>0.069080</td>\n",
       "    </tr>\n",
       "    <tr>\n",
       "      <td>std</td>\n",
       "      <td>0.784668</td>\n",
       "      <td>23.013721</td>\n",
       "      <td>9.123822e+07</td>\n",
       "      <td>0.253603</td>\n",
       "    </tr>\n",
       "    <tr>\n",
       "      <td>min</td>\n",
       "      <td>2.000000</td>\n",
       "      <td>0.000000</td>\n",
       "      <td>1.000000e+00</td>\n",
       "      <td>0.000000</td>\n",
       "    </tr>\n",
       "    <tr>\n",
       "      <td>25%</td>\n",
       "      <td>4.000000</td>\n",
       "      <td>2.400000</td>\n",
       "      <td>1.000000e+04</td>\n",
       "      <td>0.000000</td>\n",
       "    </tr>\n",
       "    <tr>\n",
       "      <td>50%</td>\n",
       "      <td>4.000000</td>\n",
       "      <td>9.500000</td>\n",
       "      <td>5.000000e+05</td>\n",
       "      <td>0.000000</td>\n",
       "    </tr>\n",
       "    <tr>\n",
       "      <td>75%</td>\n",
       "      <td>5.000000</td>\n",
       "      <td>27.000000</td>\n",
       "      <td>5.000000e+06</td>\n",
       "      <td>0.000000</td>\n",
       "    </tr>\n",
       "    <tr>\n",
       "      <td>max</td>\n",
       "      <td>5.000000</td>\n",
       "      <td>100.000000</td>\n",
       "      <td>1.000000e+09</td>\n",
       "      <td>1.000000</td>\n",
       "    </tr>\n",
       "  </tbody>\n",
       "</table>\n",
       "</div>"
      ],
      "text/plain": [
       "            Rating         Size      Installs         Type\n",
       "count  9366.000000  9366.000000  9.366000e+03  9366.000000\n",
       "mean      4.071535    18.945051  1.789744e+07     0.069080\n",
       "std       0.784668    23.013721  9.123822e+07     0.253603\n",
       "min       2.000000     0.000000  1.000000e+00     0.000000\n",
       "25%       4.000000     2.400000  1.000000e+04     0.000000\n",
       "50%       4.000000     9.500000  5.000000e+05     0.000000\n",
       "75%       5.000000    27.000000  5.000000e+06     0.000000\n",
       "max       5.000000   100.000000  1.000000e+09     1.000000"
      ]
     },
     "execution_count": 25,
     "metadata": {},
     "output_type": "execute_result"
    }
   ],
   "source": [
    "df.describe()"
   ]
  },
  {
   "cell_type": "code",
   "execution_count": 26,
   "metadata": {},
   "outputs": [],
   "source": [
    "del df['App']\n",
    "del df['Price']\n",
    "del df['Genres']\n",
    "del df['Android Ver']\n",
    "del df['Current Ver']"
   ]
  },
  {
   "cell_type": "code",
   "execution_count": 27,
   "metadata": {},
   "outputs": [
    {
     "data": {
      "text/html": [
       "<div>\n",
       "<style scoped>\n",
       "    .dataframe tbody tr th:only-of-type {\n",
       "        vertical-align: middle;\n",
       "    }\n",
       "\n",
       "    .dataframe tbody tr th {\n",
       "        vertical-align: top;\n",
       "    }\n",
       "\n",
       "    .dataframe thead th {\n",
       "        text-align: right;\n",
       "    }\n",
       "</style>\n",
       "<table border=\"1\" class=\"dataframe\">\n",
       "  <thead>\n",
       "    <tr style=\"text-align: right;\">\n",
       "      <th></th>\n",
       "      <th>Category</th>\n",
       "      <th>Rating</th>\n",
       "      <th>Reviews</th>\n",
       "      <th>Size</th>\n",
       "      <th>Installs</th>\n",
       "      <th>Type</th>\n",
       "      <th>Content Rating</th>\n",
       "      <th>Last Updated</th>\n",
       "    </tr>\n",
       "  </thead>\n",
       "  <tbody>\n",
       "    <tr>\n",
       "      <td>0</td>\n",
       "      <td>ART_AND_DESIGN</td>\n",
       "      <td>4.0</td>\n",
       "      <td>159</td>\n",
       "      <td>19.0</td>\n",
       "      <td>10000</td>\n",
       "      <td>0</td>\n",
       "      <td>Everyone</td>\n",
       "      <td>January 7, 2018</td>\n",
       "    </tr>\n",
       "    <tr>\n",
       "      <td>1</td>\n",
       "      <td>ART_AND_DESIGN</td>\n",
       "      <td>3.0</td>\n",
       "      <td>967</td>\n",
       "      <td>14.0</td>\n",
       "      <td>500000</td>\n",
       "      <td>0</td>\n",
       "      <td>Everyone</td>\n",
       "      <td>January 15, 2018</td>\n",
       "    </tr>\n",
       "    <tr>\n",
       "      <td>2</td>\n",
       "      <td>ART_AND_DESIGN</td>\n",
       "      <td>5.0</td>\n",
       "      <td>87510</td>\n",
       "      <td>8.7</td>\n",
       "      <td>5000000</td>\n",
       "      <td>0</td>\n",
       "      <td>Everyone</td>\n",
       "      <td>August 1, 2018</td>\n",
       "    </tr>\n",
       "    <tr>\n",
       "      <td>3</td>\n",
       "      <td>ART_AND_DESIGN</td>\n",
       "      <td>5.0</td>\n",
       "      <td>215644</td>\n",
       "      <td>25.0</td>\n",
       "      <td>50000000</td>\n",
       "      <td>0</td>\n",
       "      <td>Teen</td>\n",
       "      <td>June 8, 2018</td>\n",
       "    </tr>\n",
       "    <tr>\n",
       "      <td>4</td>\n",
       "      <td>ART_AND_DESIGN</td>\n",
       "      <td>4.0</td>\n",
       "      <td>967</td>\n",
       "      <td>2.8</td>\n",
       "      <td>100000</td>\n",
       "      <td>0</td>\n",
       "      <td>Everyone</td>\n",
       "      <td>June 20, 2018</td>\n",
       "    </tr>\n",
       "    <tr>\n",
       "      <td>...</td>\n",
       "      <td>...</td>\n",
       "      <td>...</td>\n",
       "      <td>...</td>\n",
       "      <td>...</td>\n",
       "      <td>...</td>\n",
       "      <td>...</td>\n",
       "      <td>...</td>\n",
       "      <td>...</td>\n",
       "    </tr>\n",
       "    <tr>\n",
       "      <td>10834</td>\n",
       "      <td>FAMILY</td>\n",
       "      <td>4.0</td>\n",
       "      <td>7</td>\n",
       "      <td>2.6</td>\n",
       "      <td>500</td>\n",
       "      <td>0</td>\n",
       "      <td>Everyone</td>\n",
       "      <td>June 18, 2017</td>\n",
       "    </tr>\n",
       "    <tr>\n",
       "      <td>10836</td>\n",
       "      <td>FAMILY</td>\n",
       "      <td>5.0</td>\n",
       "      <td>38</td>\n",
       "      <td>53.0</td>\n",
       "      <td>5000</td>\n",
       "      <td>0</td>\n",
       "      <td>Everyone</td>\n",
       "      <td>July 25, 2017</td>\n",
       "    </tr>\n",
       "    <tr>\n",
       "      <td>10837</td>\n",
       "      <td>FAMILY</td>\n",
       "      <td>5.0</td>\n",
       "      <td>4</td>\n",
       "      <td>3.6</td>\n",
       "      <td>100</td>\n",
       "      <td>0</td>\n",
       "      <td>Everyone</td>\n",
       "      <td>July 6, 2018</td>\n",
       "    </tr>\n",
       "    <tr>\n",
       "      <td>10839</td>\n",
       "      <td>BOOKS_AND_REFERENCE</td>\n",
       "      <td>5.0</td>\n",
       "      <td>114</td>\n",
       "      <td>0.0</td>\n",
       "      <td>1000</td>\n",
       "      <td>0</td>\n",
       "      <td>Mature</td>\n",
       "      <td>January 19, 2015</td>\n",
       "    </tr>\n",
       "    <tr>\n",
       "      <td>10840</td>\n",
       "      <td>LIFESTYLE</td>\n",
       "      <td>5.0</td>\n",
       "      <td>398307</td>\n",
       "      <td>19.0</td>\n",
       "      <td>10000000</td>\n",
       "      <td>0</td>\n",
       "      <td>Everyone</td>\n",
       "      <td>July 25, 2018</td>\n",
       "    </tr>\n",
       "  </tbody>\n",
       "</table>\n",
       "<p>9366 rows × 8 columns</p>\n",
       "</div>"
      ],
      "text/plain": [
       "                  Category  Rating Reviews  Size  Installs  Type  \\\n",
       "0           ART_AND_DESIGN     4.0     159  19.0     10000     0   \n",
       "1           ART_AND_DESIGN     3.0     967  14.0    500000     0   \n",
       "2           ART_AND_DESIGN     5.0   87510   8.7   5000000     0   \n",
       "3           ART_AND_DESIGN     5.0  215644  25.0  50000000     0   \n",
       "4           ART_AND_DESIGN     4.0     967   2.8    100000     0   \n",
       "...                    ...     ...     ...   ...       ...   ...   \n",
       "10834               FAMILY     4.0       7   2.6       500     0   \n",
       "10836               FAMILY     5.0      38  53.0      5000     0   \n",
       "10837               FAMILY     5.0       4   3.6       100     0   \n",
       "10839  BOOKS_AND_REFERENCE     5.0     114   0.0      1000     0   \n",
       "10840            LIFESTYLE     5.0  398307  19.0  10000000     0   \n",
       "\n",
       "      Content Rating      Last Updated  \n",
       "0           Everyone   January 7, 2018  \n",
       "1           Everyone  January 15, 2018  \n",
       "2           Everyone    August 1, 2018  \n",
       "3               Teen      June 8, 2018  \n",
       "4           Everyone     June 20, 2018  \n",
       "...              ...               ...  \n",
       "10834       Everyone     June 18, 2017  \n",
       "10836       Everyone     July 25, 2017  \n",
       "10837       Everyone      July 6, 2018  \n",
       "10839         Mature  January 19, 2015  \n",
       "10840       Everyone     July 25, 2018  \n",
       "\n",
       "[9366 rows x 8 columns]"
      ]
     },
     "execution_count": 27,
     "metadata": {},
     "output_type": "execute_result"
    }
   ],
   "source": [
    "df"
   ]
  },
  {
   "cell_type": "code",
   "execution_count": 28,
   "metadata": {},
   "outputs": [],
   "source": [
    "import datetime"
   ]
  },
  {
   "cell_type": "markdown",
   "metadata": {},
   "source": [
    "### Last Updated"
   ]
  },
  {
   "cell_type": "code",
   "execution_count": 29,
   "metadata": {},
   "outputs": [],
   "source": [
    "def preprocess_last_updated(dates):\n",
    "    days = [] \n",
    "    time1 = datetime.datetime.today()\n",
    "    for date in dates:\n",
    "        last_updated = datetime.datetime.strptime(date, \"%B %d, %Y\")\n",
    "        days.append((time1 - last_updated).days)\n",
    "    return days"
   ]
  },
  {
   "cell_type": "code",
   "execution_count": 30,
   "metadata": {},
   "outputs": [],
   "source": [
    "df['Last Updated'] = preprocess_last_updated(df['Last Updated'])"
   ]
  },
  {
   "cell_type": "code",
   "execution_count": 31,
   "metadata": {},
   "outputs": [
    {
     "data": {
      "text/plain": [
       "Category           object\n",
       "Rating            float64\n",
       "Reviews            object\n",
       "Size              float64\n",
       "Installs            int64\n",
       "Type                int64\n",
       "Content Rating     object\n",
       "Last Updated        int64\n",
       "dtype: object"
      ]
     },
     "execution_count": 31,
     "metadata": {},
     "output_type": "execute_result"
    }
   ],
   "source": [
    "df.dtypes"
   ]
  },
  {
   "cell_type": "code",
   "execution_count": 32,
   "metadata": {},
   "outputs": [
    {
     "data": {
      "text/html": [
       "<div>\n",
       "<style scoped>\n",
       "    .dataframe tbody tr th:only-of-type {\n",
       "        vertical-align: middle;\n",
       "    }\n",
       "\n",
       "    .dataframe tbody tr th {\n",
       "        vertical-align: top;\n",
       "    }\n",
       "\n",
       "    .dataframe thead th {\n",
       "        text-align: right;\n",
       "    }\n",
       "</style>\n",
       "<table border=\"1\" class=\"dataframe\">\n",
       "  <thead>\n",
       "    <tr style=\"text-align: right;\">\n",
       "      <th></th>\n",
       "      <th>Category</th>\n",
       "      <th>Rating</th>\n",
       "      <th>Reviews</th>\n",
       "      <th>Size</th>\n",
       "      <th>Installs</th>\n",
       "      <th>Type</th>\n",
       "      <th>Content Rating</th>\n",
       "      <th>Last Updated</th>\n",
       "    </tr>\n",
       "  </thead>\n",
       "  <tbody>\n",
       "    <tr>\n",
       "      <td>0</td>\n",
       "      <td>ART_AND_DESIGN</td>\n",
       "      <td>4.0</td>\n",
       "      <td>159</td>\n",
       "      <td>19.0</td>\n",
       "      <td>10000</td>\n",
       "      <td>0</td>\n",
       "      <td>Everyone</td>\n",
       "      <td>733</td>\n",
       "    </tr>\n",
       "    <tr>\n",
       "      <td>1</td>\n",
       "      <td>ART_AND_DESIGN</td>\n",
       "      <td>3.0</td>\n",
       "      <td>967</td>\n",
       "      <td>14.0</td>\n",
       "      <td>500000</td>\n",
       "      <td>0</td>\n",
       "      <td>Everyone</td>\n",
       "      <td>725</td>\n",
       "    </tr>\n",
       "    <tr>\n",
       "      <td>2</td>\n",
       "      <td>ART_AND_DESIGN</td>\n",
       "      <td>5.0</td>\n",
       "      <td>87510</td>\n",
       "      <td>8.7</td>\n",
       "      <td>5000000</td>\n",
       "      <td>0</td>\n",
       "      <td>Everyone</td>\n",
       "      <td>527</td>\n",
       "    </tr>\n",
       "    <tr>\n",
       "      <td>3</td>\n",
       "      <td>ART_AND_DESIGN</td>\n",
       "      <td>5.0</td>\n",
       "      <td>215644</td>\n",
       "      <td>25.0</td>\n",
       "      <td>50000000</td>\n",
       "      <td>0</td>\n",
       "      <td>Teen</td>\n",
       "      <td>581</td>\n",
       "    </tr>\n",
       "    <tr>\n",
       "      <td>4</td>\n",
       "      <td>ART_AND_DESIGN</td>\n",
       "      <td>4.0</td>\n",
       "      <td>967</td>\n",
       "      <td>2.8</td>\n",
       "      <td>100000</td>\n",
       "      <td>0</td>\n",
       "      <td>Everyone</td>\n",
       "      <td>569</td>\n",
       "    </tr>\n",
       "    <tr>\n",
       "      <td>...</td>\n",
       "      <td>...</td>\n",
       "      <td>...</td>\n",
       "      <td>...</td>\n",
       "      <td>...</td>\n",
       "      <td>...</td>\n",
       "      <td>...</td>\n",
       "      <td>...</td>\n",
       "      <td>...</td>\n",
       "    </tr>\n",
       "    <tr>\n",
       "      <td>10834</td>\n",
       "      <td>FAMILY</td>\n",
       "      <td>4.0</td>\n",
       "      <td>7</td>\n",
       "      <td>2.6</td>\n",
       "      <td>500</td>\n",
       "      <td>0</td>\n",
       "      <td>Everyone</td>\n",
       "      <td>936</td>\n",
       "    </tr>\n",
       "    <tr>\n",
       "      <td>10836</td>\n",
       "      <td>FAMILY</td>\n",
       "      <td>5.0</td>\n",
       "      <td>38</td>\n",
       "      <td>53.0</td>\n",
       "      <td>5000</td>\n",
       "      <td>0</td>\n",
       "      <td>Everyone</td>\n",
       "      <td>899</td>\n",
       "    </tr>\n",
       "    <tr>\n",
       "      <td>10837</td>\n",
       "      <td>FAMILY</td>\n",
       "      <td>5.0</td>\n",
       "      <td>4</td>\n",
       "      <td>3.6</td>\n",
       "      <td>100</td>\n",
       "      <td>0</td>\n",
       "      <td>Everyone</td>\n",
       "      <td>553</td>\n",
       "    </tr>\n",
       "    <tr>\n",
       "      <td>10839</td>\n",
       "      <td>BOOKS_AND_REFERENCE</td>\n",
       "      <td>5.0</td>\n",
       "      <td>114</td>\n",
       "      <td>0.0</td>\n",
       "      <td>1000</td>\n",
       "      <td>0</td>\n",
       "      <td>Mature</td>\n",
       "      <td>1817</td>\n",
       "    </tr>\n",
       "    <tr>\n",
       "      <td>10840</td>\n",
       "      <td>LIFESTYLE</td>\n",
       "      <td>5.0</td>\n",
       "      <td>398307</td>\n",
       "      <td>19.0</td>\n",
       "      <td>10000000</td>\n",
       "      <td>0</td>\n",
       "      <td>Everyone</td>\n",
       "      <td>534</td>\n",
       "    </tr>\n",
       "  </tbody>\n",
       "</table>\n",
       "<p>9366 rows × 8 columns</p>\n",
       "</div>"
      ],
      "text/plain": [
       "                  Category  Rating Reviews  Size  Installs  Type  \\\n",
       "0           ART_AND_DESIGN     4.0     159  19.0     10000     0   \n",
       "1           ART_AND_DESIGN     3.0     967  14.0    500000     0   \n",
       "2           ART_AND_DESIGN     5.0   87510   8.7   5000000     0   \n",
       "3           ART_AND_DESIGN     5.0  215644  25.0  50000000     0   \n",
       "4           ART_AND_DESIGN     4.0     967   2.8    100000     0   \n",
       "...                    ...     ...     ...   ...       ...   ...   \n",
       "10834               FAMILY     4.0       7   2.6       500     0   \n",
       "10836               FAMILY     5.0      38  53.0      5000     0   \n",
       "10837               FAMILY     5.0       4   3.6       100     0   \n",
       "10839  BOOKS_AND_REFERENCE     5.0     114   0.0      1000     0   \n",
       "10840            LIFESTYLE     5.0  398307  19.0  10000000     0   \n",
       "\n",
       "      Content Rating  Last Updated  \n",
       "0           Everyone           733  \n",
       "1           Everyone           725  \n",
       "2           Everyone           527  \n",
       "3               Teen           581  \n",
       "4           Everyone           569  \n",
       "...              ...           ...  \n",
       "10834       Everyone           936  \n",
       "10836       Everyone           899  \n",
       "10837       Everyone           553  \n",
       "10839         Mature          1817  \n",
       "10840       Everyone           534  \n",
       "\n",
       "[9366 rows x 8 columns]"
      ]
     },
     "execution_count": 32,
     "metadata": {},
     "output_type": "execute_result"
    }
   ],
   "source": [
    "df"
   ]
  },
  {
   "cell_type": "markdown",
   "metadata": {},
   "source": [
    "## Datatype Transformation"
   ]
  },
  {
   "cell_type": "code",
   "execution_count": 33,
   "metadata": {},
   "outputs": [],
   "source": [
    "one_hot_encoded = pd.get_dummies(df['Content Rating'],prefix='content_rating')"
   ]
  },
  {
   "cell_type": "code",
   "execution_count": 34,
   "metadata": {},
   "outputs": [
    {
     "data": {
      "text/html": [
       "<div>\n",
       "<style scoped>\n",
       "    .dataframe tbody tr th:only-of-type {\n",
       "        vertical-align: middle;\n",
       "    }\n",
       "\n",
       "    .dataframe tbody tr th {\n",
       "        vertical-align: top;\n",
       "    }\n",
       "\n",
       "    .dataframe thead th {\n",
       "        text-align: right;\n",
       "    }\n",
       "</style>\n",
       "<table border=\"1\" class=\"dataframe\">\n",
       "  <thead>\n",
       "    <tr style=\"text-align: right;\">\n",
       "      <th></th>\n",
       "      <th>content_rating_Everyone</th>\n",
       "      <th>content_rating_Mature</th>\n",
       "      <th>content_rating_Teen</th>\n",
       "    </tr>\n",
       "  </thead>\n",
       "  <tbody>\n",
       "    <tr>\n",
       "      <td>0</td>\n",
       "      <td>1</td>\n",
       "      <td>0</td>\n",
       "      <td>0</td>\n",
       "    </tr>\n",
       "    <tr>\n",
       "      <td>1</td>\n",
       "      <td>1</td>\n",
       "      <td>0</td>\n",
       "      <td>0</td>\n",
       "    </tr>\n",
       "    <tr>\n",
       "      <td>2</td>\n",
       "      <td>1</td>\n",
       "      <td>0</td>\n",
       "      <td>0</td>\n",
       "    </tr>\n",
       "    <tr>\n",
       "      <td>3</td>\n",
       "      <td>0</td>\n",
       "      <td>0</td>\n",
       "      <td>1</td>\n",
       "    </tr>\n",
       "    <tr>\n",
       "      <td>4</td>\n",
       "      <td>1</td>\n",
       "      <td>0</td>\n",
       "      <td>0</td>\n",
       "    </tr>\n",
       "    <tr>\n",
       "      <td>...</td>\n",
       "      <td>...</td>\n",
       "      <td>...</td>\n",
       "      <td>...</td>\n",
       "    </tr>\n",
       "    <tr>\n",
       "      <td>10834</td>\n",
       "      <td>1</td>\n",
       "      <td>0</td>\n",
       "      <td>0</td>\n",
       "    </tr>\n",
       "    <tr>\n",
       "      <td>10836</td>\n",
       "      <td>1</td>\n",
       "      <td>0</td>\n",
       "      <td>0</td>\n",
       "    </tr>\n",
       "    <tr>\n",
       "      <td>10837</td>\n",
       "      <td>1</td>\n",
       "      <td>0</td>\n",
       "      <td>0</td>\n",
       "    </tr>\n",
       "    <tr>\n",
       "      <td>10839</td>\n",
       "      <td>0</td>\n",
       "      <td>1</td>\n",
       "      <td>0</td>\n",
       "    </tr>\n",
       "    <tr>\n",
       "      <td>10840</td>\n",
       "      <td>1</td>\n",
       "      <td>0</td>\n",
       "      <td>0</td>\n",
       "    </tr>\n",
       "  </tbody>\n",
       "</table>\n",
       "<p>9366 rows × 3 columns</p>\n",
       "</div>"
      ],
      "text/plain": [
       "       content_rating_Everyone  content_rating_Mature  content_rating_Teen\n",
       "0                            1                      0                    0\n",
       "1                            1                      0                    0\n",
       "2                            1                      0                    0\n",
       "3                            0                      0                    1\n",
       "4                            1                      0                    0\n",
       "...                        ...                    ...                  ...\n",
       "10834                        1                      0                    0\n",
       "10836                        1                      0                    0\n",
       "10837                        1                      0                    0\n",
       "10839                        0                      1                    0\n",
       "10840                        1                      0                    0\n",
       "\n",
       "[9366 rows x 3 columns]"
      ]
     },
     "execution_count": 34,
     "metadata": {},
     "output_type": "execute_result"
    }
   ],
   "source": [
    "one_hot_encoded"
   ]
  },
  {
   "cell_type": "code",
   "execution_count": 35,
   "metadata": {},
   "outputs": [],
   "source": [
    "new_df = df\n",
    "new_df['content_rating_Everyone'] = one_hot_encoded['content_rating_Everyone']\n",
    "new_df['content_rating_Mature'] = one_hot_encoded['content_rating_Mature']\n",
    "new_df['content_rating_Teen'] = one_hot_encoded['content_rating_Teen']"
   ]
  },
  {
   "cell_type": "code",
   "execution_count": 36,
   "metadata": {},
   "outputs": [],
   "source": [
    "del new_df['Content Rating']"
   ]
  },
  {
   "cell_type": "code",
   "execution_count": 37,
   "metadata": {},
   "outputs": [
    {
     "data": {
      "text/html": [
       "<div>\n",
       "<style scoped>\n",
       "    .dataframe tbody tr th:only-of-type {\n",
       "        vertical-align: middle;\n",
       "    }\n",
       "\n",
       "    .dataframe tbody tr th {\n",
       "        vertical-align: top;\n",
       "    }\n",
       "\n",
       "    .dataframe thead th {\n",
       "        text-align: right;\n",
       "    }\n",
       "</style>\n",
       "<table border=\"1\" class=\"dataframe\">\n",
       "  <thead>\n",
       "    <tr style=\"text-align: right;\">\n",
       "      <th></th>\n",
       "      <th>Category</th>\n",
       "      <th>Rating</th>\n",
       "      <th>Reviews</th>\n",
       "      <th>Size</th>\n",
       "      <th>Installs</th>\n",
       "      <th>Type</th>\n",
       "      <th>Last Updated</th>\n",
       "      <th>content_rating_Everyone</th>\n",
       "      <th>content_rating_Mature</th>\n",
       "      <th>content_rating_Teen</th>\n",
       "    </tr>\n",
       "  </thead>\n",
       "  <tbody>\n",
       "    <tr>\n",
       "      <td>0</td>\n",
       "      <td>ART_AND_DESIGN</td>\n",
       "      <td>4.0</td>\n",
       "      <td>159</td>\n",
       "      <td>19.0</td>\n",
       "      <td>10000</td>\n",
       "      <td>0</td>\n",
       "      <td>733</td>\n",
       "      <td>1</td>\n",
       "      <td>0</td>\n",
       "      <td>0</td>\n",
       "    </tr>\n",
       "    <tr>\n",
       "      <td>1</td>\n",
       "      <td>ART_AND_DESIGN</td>\n",
       "      <td>3.0</td>\n",
       "      <td>967</td>\n",
       "      <td>14.0</td>\n",
       "      <td>500000</td>\n",
       "      <td>0</td>\n",
       "      <td>725</td>\n",
       "      <td>1</td>\n",
       "      <td>0</td>\n",
       "      <td>0</td>\n",
       "    </tr>\n",
       "    <tr>\n",
       "      <td>2</td>\n",
       "      <td>ART_AND_DESIGN</td>\n",
       "      <td>5.0</td>\n",
       "      <td>87510</td>\n",
       "      <td>8.7</td>\n",
       "      <td>5000000</td>\n",
       "      <td>0</td>\n",
       "      <td>527</td>\n",
       "      <td>1</td>\n",
       "      <td>0</td>\n",
       "      <td>0</td>\n",
       "    </tr>\n",
       "    <tr>\n",
       "      <td>3</td>\n",
       "      <td>ART_AND_DESIGN</td>\n",
       "      <td>5.0</td>\n",
       "      <td>215644</td>\n",
       "      <td>25.0</td>\n",
       "      <td>50000000</td>\n",
       "      <td>0</td>\n",
       "      <td>581</td>\n",
       "      <td>0</td>\n",
       "      <td>0</td>\n",
       "      <td>1</td>\n",
       "    </tr>\n",
       "    <tr>\n",
       "      <td>4</td>\n",
       "      <td>ART_AND_DESIGN</td>\n",
       "      <td>4.0</td>\n",
       "      <td>967</td>\n",
       "      <td>2.8</td>\n",
       "      <td>100000</td>\n",
       "      <td>0</td>\n",
       "      <td>569</td>\n",
       "      <td>1</td>\n",
       "      <td>0</td>\n",
       "      <td>0</td>\n",
       "    </tr>\n",
       "    <tr>\n",
       "      <td>...</td>\n",
       "      <td>...</td>\n",
       "      <td>...</td>\n",
       "      <td>...</td>\n",
       "      <td>...</td>\n",
       "      <td>...</td>\n",
       "      <td>...</td>\n",
       "      <td>...</td>\n",
       "      <td>...</td>\n",
       "      <td>...</td>\n",
       "      <td>...</td>\n",
       "    </tr>\n",
       "    <tr>\n",
       "      <td>10834</td>\n",
       "      <td>FAMILY</td>\n",
       "      <td>4.0</td>\n",
       "      <td>7</td>\n",
       "      <td>2.6</td>\n",
       "      <td>500</td>\n",
       "      <td>0</td>\n",
       "      <td>936</td>\n",
       "      <td>1</td>\n",
       "      <td>0</td>\n",
       "      <td>0</td>\n",
       "    </tr>\n",
       "    <tr>\n",
       "      <td>10836</td>\n",
       "      <td>FAMILY</td>\n",
       "      <td>5.0</td>\n",
       "      <td>38</td>\n",
       "      <td>53.0</td>\n",
       "      <td>5000</td>\n",
       "      <td>0</td>\n",
       "      <td>899</td>\n",
       "      <td>1</td>\n",
       "      <td>0</td>\n",
       "      <td>0</td>\n",
       "    </tr>\n",
       "    <tr>\n",
       "      <td>10837</td>\n",
       "      <td>FAMILY</td>\n",
       "      <td>5.0</td>\n",
       "      <td>4</td>\n",
       "      <td>3.6</td>\n",
       "      <td>100</td>\n",
       "      <td>0</td>\n",
       "      <td>553</td>\n",
       "      <td>1</td>\n",
       "      <td>0</td>\n",
       "      <td>0</td>\n",
       "    </tr>\n",
       "    <tr>\n",
       "      <td>10839</td>\n",
       "      <td>BOOKS_AND_REFERENCE</td>\n",
       "      <td>5.0</td>\n",
       "      <td>114</td>\n",
       "      <td>0.0</td>\n",
       "      <td>1000</td>\n",
       "      <td>0</td>\n",
       "      <td>1817</td>\n",
       "      <td>0</td>\n",
       "      <td>1</td>\n",
       "      <td>0</td>\n",
       "    </tr>\n",
       "    <tr>\n",
       "      <td>10840</td>\n",
       "      <td>LIFESTYLE</td>\n",
       "      <td>5.0</td>\n",
       "      <td>398307</td>\n",
       "      <td>19.0</td>\n",
       "      <td>10000000</td>\n",
       "      <td>0</td>\n",
       "      <td>534</td>\n",
       "      <td>1</td>\n",
       "      <td>0</td>\n",
       "      <td>0</td>\n",
       "    </tr>\n",
       "  </tbody>\n",
       "</table>\n",
       "<p>9366 rows × 10 columns</p>\n",
       "</div>"
      ],
      "text/plain": [
       "                  Category  Rating Reviews  Size  Installs  Type  \\\n",
       "0           ART_AND_DESIGN     4.0     159  19.0     10000     0   \n",
       "1           ART_AND_DESIGN     3.0     967  14.0    500000     0   \n",
       "2           ART_AND_DESIGN     5.0   87510   8.7   5000000     0   \n",
       "3           ART_AND_DESIGN     5.0  215644  25.0  50000000     0   \n",
       "4           ART_AND_DESIGN     4.0     967   2.8    100000     0   \n",
       "...                    ...     ...     ...   ...       ...   ...   \n",
       "10834               FAMILY     4.0       7   2.6       500     0   \n",
       "10836               FAMILY     5.0      38  53.0      5000     0   \n",
       "10837               FAMILY     5.0       4   3.6       100     0   \n",
       "10839  BOOKS_AND_REFERENCE     5.0     114   0.0      1000     0   \n",
       "10840            LIFESTYLE     5.0  398307  19.0  10000000     0   \n",
       "\n",
       "       Last Updated  content_rating_Everyone  content_rating_Mature  \\\n",
       "0               733                        1                      0   \n",
       "1               725                        1                      0   \n",
       "2               527                        1                      0   \n",
       "3               581                        0                      0   \n",
       "4               569                        1                      0   \n",
       "...             ...                      ...                    ...   \n",
       "10834           936                        1                      0   \n",
       "10836           899                        1                      0   \n",
       "10837           553                        1                      0   \n",
       "10839          1817                        0                      1   \n",
       "10840           534                        1                      0   \n",
       "\n",
       "       content_rating_Teen  \n",
       "0                        0  \n",
       "1                        0  \n",
       "2                        0  \n",
       "3                        1  \n",
       "4                        0  \n",
       "...                    ...  \n",
       "10834                    0  \n",
       "10836                    0  \n",
       "10837                    0  \n",
       "10839                    0  \n",
       "10840                    0  \n",
       "\n",
       "[9366 rows x 10 columns]"
      ]
     },
     "execution_count": 37,
     "metadata": {},
     "output_type": "execute_result"
    }
   ],
   "source": [
    "new_df"
   ]
  },
  {
   "cell_type": "code",
   "execution_count": 38,
   "metadata": {},
   "outputs": [],
   "source": [
    "labels = new_df['Category'].astype('category').cat.categories.tolist()\n",
    "mapping_labels = { label: val for label, val in zip(labels,list(range(1,len(labels)+1)))}"
   ]
  },
  {
   "cell_type": "code",
   "execution_count": 39,
   "metadata": {},
   "outputs": [],
   "source": [
    "def preprocess_category(categories):\n",
    "    return categories.apply(lambda x: mapping_labels[x])"
   ]
  },
  {
   "cell_type": "code",
   "execution_count": 40,
   "metadata": {},
   "outputs": [],
   "source": [
    "new_df['Category'] = preprocess_category(new_df['Category'])"
   ]
  },
  {
   "cell_type": "code",
   "execution_count": 41,
   "metadata": {},
   "outputs": [
    {
     "data": {
      "text/plain": [
       "12    1747\n",
       "15    1097\n",
       "30     734\n",
       "26     351\n",
       "21     350\n",
       "7      328\n",
       "13     323\n",
       "29     319\n",
       "25     317\n",
       "19     314\n",
       "24     314\n",
       "5      303\n",
       "16     297\n",
       "28     259\n",
       "27     238\n",
       "22     233\n",
       "31     226\n",
       "8      195\n",
       "4      178\n",
       "32     160\n",
       "9      155\n",
       "10     149\n",
       "20     124\n",
       "14     109\n",
       "17      76\n",
       "33      75\n",
       "2       73\n",
       "18      65\n",
       "1       62\n",
       "6       58\n",
       "23      50\n",
       "11      45\n",
       "3       42\n",
       "Name: Category, dtype: int64"
      ]
     },
     "execution_count": 41,
     "metadata": {},
     "output_type": "execute_result"
    }
   ],
   "source": [
    "new_df['Category'].value_counts()"
   ]
  },
  {
   "cell_type": "code",
   "execution_count": 42,
   "metadata": {},
   "outputs": [
    {
     "data": {
      "text/html": [
       "<div>\n",
       "<style scoped>\n",
       "    .dataframe tbody tr th:only-of-type {\n",
       "        vertical-align: middle;\n",
       "    }\n",
       "\n",
       "    .dataframe tbody tr th {\n",
       "        vertical-align: top;\n",
       "    }\n",
       "\n",
       "    .dataframe thead th {\n",
       "        text-align: right;\n",
       "    }\n",
       "</style>\n",
       "<table border=\"1\" class=\"dataframe\">\n",
       "  <thead>\n",
       "    <tr style=\"text-align: right;\">\n",
       "      <th></th>\n",
       "      <th>Category</th>\n",
       "      <th>Rating</th>\n",
       "      <th>Reviews</th>\n",
       "      <th>Size</th>\n",
       "      <th>Installs</th>\n",
       "      <th>Type</th>\n",
       "      <th>Last Updated</th>\n",
       "      <th>content_rating_Everyone</th>\n",
       "      <th>content_rating_Mature</th>\n",
       "      <th>content_rating_Teen</th>\n",
       "    </tr>\n",
       "  </thead>\n",
       "  <tbody>\n",
       "    <tr>\n",
       "      <td>0</td>\n",
       "      <td>1</td>\n",
       "      <td>4.0</td>\n",
       "      <td>159</td>\n",
       "      <td>19.0</td>\n",
       "      <td>10000</td>\n",
       "      <td>0</td>\n",
       "      <td>733</td>\n",
       "      <td>1</td>\n",
       "      <td>0</td>\n",
       "      <td>0</td>\n",
       "    </tr>\n",
       "    <tr>\n",
       "      <td>1</td>\n",
       "      <td>1</td>\n",
       "      <td>3.0</td>\n",
       "      <td>967</td>\n",
       "      <td>14.0</td>\n",
       "      <td>500000</td>\n",
       "      <td>0</td>\n",
       "      <td>725</td>\n",
       "      <td>1</td>\n",
       "      <td>0</td>\n",
       "      <td>0</td>\n",
       "    </tr>\n",
       "    <tr>\n",
       "      <td>2</td>\n",
       "      <td>1</td>\n",
       "      <td>5.0</td>\n",
       "      <td>87510</td>\n",
       "      <td>8.7</td>\n",
       "      <td>5000000</td>\n",
       "      <td>0</td>\n",
       "      <td>527</td>\n",
       "      <td>1</td>\n",
       "      <td>0</td>\n",
       "      <td>0</td>\n",
       "    </tr>\n",
       "    <tr>\n",
       "      <td>3</td>\n",
       "      <td>1</td>\n",
       "      <td>5.0</td>\n",
       "      <td>215644</td>\n",
       "      <td>25.0</td>\n",
       "      <td>50000000</td>\n",
       "      <td>0</td>\n",
       "      <td>581</td>\n",
       "      <td>0</td>\n",
       "      <td>0</td>\n",
       "      <td>1</td>\n",
       "    </tr>\n",
       "    <tr>\n",
       "      <td>4</td>\n",
       "      <td>1</td>\n",
       "      <td>4.0</td>\n",
       "      <td>967</td>\n",
       "      <td>2.8</td>\n",
       "      <td>100000</td>\n",
       "      <td>0</td>\n",
       "      <td>569</td>\n",
       "      <td>1</td>\n",
       "      <td>0</td>\n",
       "      <td>0</td>\n",
       "    </tr>\n",
       "    <tr>\n",
       "      <td>...</td>\n",
       "      <td>...</td>\n",
       "      <td>...</td>\n",
       "      <td>...</td>\n",
       "      <td>...</td>\n",
       "      <td>...</td>\n",
       "      <td>...</td>\n",
       "      <td>...</td>\n",
       "      <td>...</td>\n",
       "      <td>...</td>\n",
       "      <td>...</td>\n",
       "    </tr>\n",
       "    <tr>\n",
       "      <td>10834</td>\n",
       "      <td>12</td>\n",
       "      <td>4.0</td>\n",
       "      <td>7</td>\n",
       "      <td>2.6</td>\n",
       "      <td>500</td>\n",
       "      <td>0</td>\n",
       "      <td>936</td>\n",
       "      <td>1</td>\n",
       "      <td>0</td>\n",
       "      <td>0</td>\n",
       "    </tr>\n",
       "    <tr>\n",
       "      <td>10836</td>\n",
       "      <td>12</td>\n",
       "      <td>5.0</td>\n",
       "      <td>38</td>\n",
       "      <td>53.0</td>\n",
       "      <td>5000</td>\n",
       "      <td>0</td>\n",
       "      <td>899</td>\n",
       "      <td>1</td>\n",
       "      <td>0</td>\n",
       "      <td>0</td>\n",
       "    </tr>\n",
       "    <tr>\n",
       "      <td>10837</td>\n",
       "      <td>12</td>\n",
       "      <td>5.0</td>\n",
       "      <td>4</td>\n",
       "      <td>3.6</td>\n",
       "      <td>100</td>\n",
       "      <td>0</td>\n",
       "      <td>553</td>\n",
       "      <td>1</td>\n",
       "      <td>0</td>\n",
       "      <td>0</td>\n",
       "    </tr>\n",
       "    <tr>\n",
       "      <td>10839</td>\n",
       "      <td>4</td>\n",
       "      <td>5.0</td>\n",
       "      <td>114</td>\n",
       "      <td>0.0</td>\n",
       "      <td>1000</td>\n",
       "      <td>0</td>\n",
       "      <td>1817</td>\n",
       "      <td>0</td>\n",
       "      <td>1</td>\n",
       "      <td>0</td>\n",
       "    </tr>\n",
       "    <tr>\n",
       "      <td>10840</td>\n",
       "      <td>19</td>\n",
       "      <td>5.0</td>\n",
       "      <td>398307</td>\n",
       "      <td>19.0</td>\n",
       "      <td>10000000</td>\n",
       "      <td>0</td>\n",
       "      <td>534</td>\n",
       "      <td>1</td>\n",
       "      <td>0</td>\n",
       "      <td>0</td>\n",
       "    </tr>\n",
       "  </tbody>\n",
       "</table>\n",
       "<p>9366 rows × 10 columns</p>\n",
       "</div>"
      ],
      "text/plain": [
       "       Category  Rating Reviews  Size  Installs  Type  Last Updated  \\\n",
       "0             1     4.0     159  19.0     10000     0           733   \n",
       "1             1     3.0     967  14.0    500000     0           725   \n",
       "2             1     5.0   87510   8.7   5000000     0           527   \n",
       "3             1     5.0  215644  25.0  50000000     0           581   \n",
       "4             1     4.0     967   2.8    100000     0           569   \n",
       "...         ...     ...     ...   ...       ...   ...           ...   \n",
       "10834        12     4.0       7   2.6       500     0           936   \n",
       "10836        12     5.0      38  53.0      5000     0           899   \n",
       "10837        12     5.0       4   3.6       100     0           553   \n",
       "10839         4     5.0     114   0.0      1000     0          1817   \n",
       "10840        19     5.0  398307  19.0  10000000     0           534   \n",
       "\n",
       "       content_rating_Everyone  content_rating_Mature  content_rating_Teen  \n",
       "0                            1                      0                    0  \n",
       "1                            1                      0                    0  \n",
       "2                            1                      0                    0  \n",
       "3                            0                      0                    1  \n",
       "4                            1                      0                    0  \n",
       "...                        ...                    ...                  ...  \n",
       "10834                        1                      0                    0  \n",
       "10836                        1                      0                    0  \n",
       "10837                        1                      0                    0  \n",
       "10839                        0                      1                    0  \n",
       "10840                        1                      0                    0  \n",
       "\n",
       "[9366 rows x 10 columns]"
      ]
     },
     "execution_count": 42,
     "metadata": {},
     "output_type": "execute_result"
    }
   ],
   "source": [
    "new_df"
   ]
  },
  {
   "cell_type": "code",
   "execution_count": 43,
   "metadata": {},
   "outputs": [],
   "source": [
    "new_df['Reviews']  = new_df['Reviews'].apply(lambda x: float(x))"
   ]
  },
  {
   "cell_type": "code",
   "execution_count": 44,
   "metadata": {},
   "outputs": [
    {
     "data": {
      "text/html": [
       "<div>\n",
       "<style scoped>\n",
       "    .dataframe tbody tr th:only-of-type {\n",
       "        vertical-align: middle;\n",
       "    }\n",
       "\n",
       "    .dataframe tbody tr th {\n",
       "        vertical-align: top;\n",
       "    }\n",
       "\n",
       "    .dataframe thead th {\n",
       "        text-align: right;\n",
       "    }\n",
       "</style>\n",
       "<table border=\"1\" class=\"dataframe\">\n",
       "  <thead>\n",
       "    <tr style=\"text-align: right;\">\n",
       "      <th></th>\n",
       "      <th>Category</th>\n",
       "      <th>Rating</th>\n",
       "      <th>Reviews</th>\n",
       "      <th>Size</th>\n",
       "      <th>Installs</th>\n",
       "      <th>Type</th>\n",
       "      <th>Last Updated</th>\n",
       "      <th>content_rating_Everyone</th>\n",
       "      <th>content_rating_Mature</th>\n",
       "      <th>content_rating_Teen</th>\n",
       "    </tr>\n",
       "  </thead>\n",
       "  <tbody>\n",
       "    <tr>\n",
       "      <td>0</td>\n",
       "      <td>1</td>\n",
       "      <td>4.0</td>\n",
       "      <td>159.0</td>\n",
       "      <td>19.0</td>\n",
       "      <td>10000</td>\n",
       "      <td>0</td>\n",
       "      <td>733</td>\n",
       "      <td>1</td>\n",
       "      <td>0</td>\n",
       "      <td>0</td>\n",
       "    </tr>\n",
       "    <tr>\n",
       "      <td>1</td>\n",
       "      <td>1</td>\n",
       "      <td>3.0</td>\n",
       "      <td>967.0</td>\n",
       "      <td>14.0</td>\n",
       "      <td>500000</td>\n",
       "      <td>0</td>\n",
       "      <td>725</td>\n",
       "      <td>1</td>\n",
       "      <td>0</td>\n",
       "      <td>0</td>\n",
       "    </tr>\n",
       "    <tr>\n",
       "      <td>2</td>\n",
       "      <td>1</td>\n",
       "      <td>5.0</td>\n",
       "      <td>87510.0</td>\n",
       "      <td>8.7</td>\n",
       "      <td>5000000</td>\n",
       "      <td>0</td>\n",
       "      <td>527</td>\n",
       "      <td>1</td>\n",
       "      <td>0</td>\n",
       "      <td>0</td>\n",
       "    </tr>\n",
       "    <tr>\n",
       "      <td>3</td>\n",
       "      <td>1</td>\n",
       "      <td>5.0</td>\n",
       "      <td>215644.0</td>\n",
       "      <td>25.0</td>\n",
       "      <td>50000000</td>\n",
       "      <td>0</td>\n",
       "      <td>581</td>\n",
       "      <td>0</td>\n",
       "      <td>0</td>\n",
       "      <td>1</td>\n",
       "    </tr>\n",
       "    <tr>\n",
       "      <td>4</td>\n",
       "      <td>1</td>\n",
       "      <td>4.0</td>\n",
       "      <td>967.0</td>\n",
       "      <td>2.8</td>\n",
       "      <td>100000</td>\n",
       "      <td>0</td>\n",
       "      <td>569</td>\n",
       "      <td>1</td>\n",
       "      <td>0</td>\n",
       "      <td>0</td>\n",
       "    </tr>\n",
       "    <tr>\n",
       "      <td>...</td>\n",
       "      <td>...</td>\n",
       "      <td>...</td>\n",
       "      <td>...</td>\n",
       "      <td>...</td>\n",
       "      <td>...</td>\n",
       "      <td>...</td>\n",
       "      <td>...</td>\n",
       "      <td>...</td>\n",
       "      <td>...</td>\n",
       "      <td>...</td>\n",
       "    </tr>\n",
       "    <tr>\n",
       "      <td>10834</td>\n",
       "      <td>12</td>\n",
       "      <td>4.0</td>\n",
       "      <td>7.0</td>\n",
       "      <td>2.6</td>\n",
       "      <td>500</td>\n",
       "      <td>0</td>\n",
       "      <td>936</td>\n",
       "      <td>1</td>\n",
       "      <td>0</td>\n",
       "      <td>0</td>\n",
       "    </tr>\n",
       "    <tr>\n",
       "      <td>10836</td>\n",
       "      <td>12</td>\n",
       "      <td>5.0</td>\n",
       "      <td>38.0</td>\n",
       "      <td>53.0</td>\n",
       "      <td>5000</td>\n",
       "      <td>0</td>\n",
       "      <td>899</td>\n",
       "      <td>1</td>\n",
       "      <td>0</td>\n",
       "      <td>0</td>\n",
       "    </tr>\n",
       "    <tr>\n",
       "      <td>10837</td>\n",
       "      <td>12</td>\n",
       "      <td>5.0</td>\n",
       "      <td>4.0</td>\n",
       "      <td>3.6</td>\n",
       "      <td>100</td>\n",
       "      <td>0</td>\n",
       "      <td>553</td>\n",
       "      <td>1</td>\n",
       "      <td>0</td>\n",
       "      <td>0</td>\n",
       "    </tr>\n",
       "    <tr>\n",
       "      <td>10839</td>\n",
       "      <td>4</td>\n",
       "      <td>5.0</td>\n",
       "      <td>114.0</td>\n",
       "      <td>0.0</td>\n",
       "      <td>1000</td>\n",
       "      <td>0</td>\n",
       "      <td>1817</td>\n",
       "      <td>0</td>\n",
       "      <td>1</td>\n",
       "      <td>0</td>\n",
       "    </tr>\n",
       "    <tr>\n",
       "      <td>10840</td>\n",
       "      <td>19</td>\n",
       "      <td>5.0</td>\n",
       "      <td>398307.0</td>\n",
       "      <td>19.0</td>\n",
       "      <td>10000000</td>\n",
       "      <td>0</td>\n",
       "      <td>534</td>\n",
       "      <td>1</td>\n",
       "      <td>0</td>\n",
       "      <td>0</td>\n",
       "    </tr>\n",
       "  </tbody>\n",
       "</table>\n",
       "<p>9366 rows × 10 columns</p>\n",
       "</div>"
      ],
      "text/plain": [
       "       Category  Rating   Reviews  Size  Installs  Type  Last Updated  \\\n",
       "0             1     4.0     159.0  19.0     10000     0           733   \n",
       "1             1     3.0     967.0  14.0    500000     0           725   \n",
       "2             1     5.0   87510.0   8.7   5000000     0           527   \n",
       "3             1     5.0  215644.0  25.0  50000000     0           581   \n",
       "4             1     4.0     967.0   2.8    100000     0           569   \n",
       "...         ...     ...       ...   ...       ...   ...           ...   \n",
       "10834        12     4.0       7.0   2.6       500     0           936   \n",
       "10836        12     5.0      38.0  53.0      5000     0           899   \n",
       "10837        12     5.0       4.0   3.6       100     0           553   \n",
       "10839         4     5.0     114.0   0.0      1000     0          1817   \n",
       "10840        19     5.0  398307.0  19.0  10000000     0           534   \n",
       "\n",
       "       content_rating_Everyone  content_rating_Mature  content_rating_Teen  \n",
       "0                            1                      0                    0  \n",
       "1                            1                      0                    0  \n",
       "2                            1                      0                    0  \n",
       "3                            0                      0                    1  \n",
       "4                            1                      0                    0  \n",
       "...                        ...                    ...                  ...  \n",
       "10834                        1                      0                    0  \n",
       "10836                        1                      0                    0  \n",
       "10837                        1                      0                    0  \n",
       "10839                        0                      1                    0  \n",
       "10840                        1                      0                    0  \n",
       "\n",
       "[9366 rows x 10 columns]"
      ]
     },
     "execution_count": 44,
     "metadata": {},
     "output_type": "execute_result"
    }
   ],
   "source": [
    "new_df"
   ]
  },
  {
   "cell_type": "markdown",
   "metadata": {},
   "source": [
    "## Normalizaing"
   ]
  },
  {
   "cell_type": "code",
   "execution_count": 45,
   "metadata": {},
   "outputs": [],
   "source": [
    "from sklearn.preprocessing import MinMaxScaler\n",
    "\n",
    "scaler = MinMaxScaler() \n",
    "scaled_values = scaler.fit_transform(new_df) \n",
    "new_df.loc[:,:] = scaled_values"
   ]
  },
  {
   "cell_type": "code",
   "execution_count": 46,
   "metadata": {},
   "outputs": [
    {
     "data": {
      "text/plain": [
       "0.0    8719\n",
       "1.0     647\n",
       "Name: Type, dtype: int64"
      ]
     },
     "execution_count": 46,
     "metadata": {},
     "output_type": "execute_result"
    }
   ],
   "source": [
    "new_df['Type'].value_counts()"
   ]
  },
  {
   "cell_type": "code",
   "execution_count": 47,
   "metadata": {},
   "outputs": [],
   "source": [
    "y_labels = new_df['Type']"
   ]
  },
  {
   "cell_type": "code",
   "execution_count": 48,
   "metadata": {},
   "outputs": [],
   "source": [
    "del new_df['Type']"
   ]
  },
  {
   "cell_type": "code",
   "execution_count": 49,
   "metadata": {},
   "outputs": [
    {
     "data": {
      "text/html": [
       "<div>\n",
       "<style scoped>\n",
       "    .dataframe tbody tr th:only-of-type {\n",
       "        vertical-align: middle;\n",
       "    }\n",
       "\n",
       "    .dataframe tbody tr th {\n",
       "        vertical-align: top;\n",
       "    }\n",
       "\n",
       "    .dataframe thead th {\n",
       "        text-align: right;\n",
       "    }\n",
       "</style>\n",
       "<table border=\"1\" class=\"dataframe\">\n",
       "  <thead>\n",
       "    <tr style=\"text-align: right;\">\n",
       "      <th></th>\n",
       "      <th>Category</th>\n",
       "      <th>Rating</th>\n",
       "      <th>Reviews</th>\n",
       "      <th>Size</th>\n",
       "      <th>Installs</th>\n",
       "      <th>Last Updated</th>\n",
       "      <th>content_rating_Everyone</th>\n",
       "      <th>content_rating_Mature</th>\n",
       "      <th>content_rating_Teen</th>\n",
       "    </tr>\n",
       "  </thead>\n",
       "  <tbody>\n",
       "    <tr>\n",
       "      <td>0</td>\n",
       "      <td>0.00000</td>\n",
       "      <td>0.666667</td>\n",
       "      <td>2.021538e-06</td>\n",
       "      <td>0.190</td>\n",
       "      <td>9.999000e-06</td>\n",
       "      <td>0.070976</td>\n",
       "      <td>1.0</td>\n",
       "      <td>0.0</td>\n",
       "      <td>0.0</td>\n",
       "    </tr>\n",
       "    <tr>\n",
       "      <td>1</td>\n",
       "      <td>0.00000</td>\n",
       "      <td>0.333333</td>\n",
       "      <td>1.235953e-05</td>\n",
       "      <td>0.140</td>\n",
       "      <td>4.999990e-04</td>\n",
       "      <td>0.068311</td>\n",
       "      <td>1.0</td>\n",
       "      <td>0.0</td>\n",
       "      <td>0.0</td>\n",
       "    </tr>\n",
       "    <tr>\n",
       "      <td>2</td>\n",
       "      <td>0.00000</td>\n",
       "      <td>1.000000</td>\n",
       "      <td>1.119638e-03</td>\n",
       "      <td>0.087</td>\n",
       "      <td>4.999999e-03</td>\n",
       "      <td>0.002333</td>\n",
       "      <td>1.0</td>\n",
       "      <td>0.0</td>\n",
       "      <td>0.0</td>\n",
       "    </tr>\n",
       "    <tr>\n",
       "      <td>3</td>\n",
       "      <td>0.00000</td>\n",
       "      <td>1.000000</td>\n",
       "      <td>2.759054e-03</td>\n",
       "      <td>0.250</td>\n",
       "      <td>5.000000e-02</td>\n",
       "      <td>0.020327</td>\n",
       "      <td>0.0</td>\n",
       "      <td>0.0</td>\n",
       "      <td>1.0</td>\n",
       "    </tr>\n",
       "    <tr>\n",
       "      <td>4</td>\n",
       "      <td>0.00000</td>\n",
       "      <td>0.666667</td>\n",
       "      <td>1.235953e-05</td>\n",
       "      <td>0.028</td>\n",
       "      <td>9.999900e-05</td>\n",
       "      <td>0.016328</td>\n",
       "      <td>1.0</td>\n",
       "      <td>0.0</td>\n",
       "      <td>0.0</td>\n",
       "    </tr>\n",
       "    <tr>\n",
       "      <td>...</td>\n",
       "      <td>...</td>\n",
       "      <td>...</td>\n",
       "      <td>...</td>\n",
       "      <td>...</td>\n",
       "      <td>...</td>\n",
       "      <td>...</td>\n",
       "      <td>...</td>\n",
       "      <td>...</td>\n",
       "      <td>...</td>\n",
       "    </tr>\n",
       "    <tr>\n",
       "      <td>10834</td>\n",
       "      <td>0.34375</td>\n",
       "      <td>0.666667</td>\n",
       "      <td>7.676727e-08</td>\n",
       "      <td>0.026</td>\n",
       "      <td>4.990000e-07</td>\n",
       "      <td>0.138620</td>\n",
       "      <td>1.0</td>\n",
       "      <td>0.0</td>\n",
       "      <td>0.0</td>\n",
       "    </tr>\n",
       "    <tr>\n",
       "      <td>10836</td>\n",
       "      <td>0.34375</td>\n",
       "      <td>1.000000</td>\n",
       "      <td>4.733982e-07</td>\n",
       "      <td>0.530</td>\n",
       "      <td>4.999000e-06</td>\n",
       "      <td>0.126291</td>\n",
       "      <td>1.0</td>\n",
       "      <td>0.0</td>\n",
       "      <td>0.0</td>\n",
       "    </tr>\n",
       "    <tr>\n",
       "      <td>10837</td>\n",
       "      <td>0.34375</td>\n",
       "      <td>1.000000</td>\n",
       "      <td>3.838364e-08</td>\n",
       "      <td>0.036</td>\n",
       "      <td>9.900000e-08</td>\n",
       "      <td>0.010996</td>\n",
       "      <td>1.0</td>\n",
       "      <td>0.0</td>\n",
       "      <td>0.0</td>\n",
       "    </tr>\n",
       "    <tr>\n",
       "      <td>10839</td>\n",
       "      <td>0.09375</td>\n",
       "      <td>1.000000</td>\n",
       "      <td>1.445784e-06</td>\n",
       "      <td>0.000</td>\n",
       "      <td>9.990000e-07</td>\n",
       "      <td>0.432189</td>\n",
       "      <td>0.0</td>\n",
       "      <td>1.0</td>\n",
       "      <td>0.0</td>\n",
       "    </tr>\n",
       "    <tr>\n",
       "      <td>10840</td>\n",
       "      <td>0.56250</td>\n",
       "      <td>1.000000</td>\n",
       "      <td>5.096144e-03</td>\n",
       "      <td>0.190</td>\n",
       "      <td>9.999999e-03</td>\n",
       "      <td>0.004665</td>\n",
       "      <td>1.0</td>\n",
       "      <td>0.0</td>\n",
       "      <td>0.0</td>\n",
       "    </tr>\n",
       "  </tbody>\n",
       "</table>\n",
       "<p>9366 rows × 9 columns</p>\n",
       "</div>"
      ],
      "text/plain": [
       "       Category    Rating       Reviews   Size      Installs  Last Updated  \\\n",
       "0       0.00000  0.666667  2.021538e-06  0.190  9.999000e-06      0.070976   \n",
       "1       0.00000  0.333333  1.235953e-05  0.140  4.999990e-04      0.068311   \n",
       "2       0.00000  1.000000  1.119638e-03  0.087  4.999999e-03      0.002333   \n",
       "3       0.00000  1.000000  2.759054e-03  0.250  5.000000e-02      0.020327   \n",
       "4       0.00000  0.666667  1.235953e-05  0.028  9.999900e-05      0.016328   \n",
       "...         ...       ...           ...    ...           ...           ...   \n",
       "10834   0.34375  0.666667  7.676727e-08  0.026  4.990000e-07      0.138620   \n",
       "10836   0.34375  1.000000  4.733982e-07  0.530  4.999000e-06      0.126291   \n",
       "10837   0.34375  1.000000  3.838364e-08  0.036  9.900000e-08      0.010996   \n",
       "10839   0.09375  1.000000  1.445784e-06  0.000  9.990000e-07      0.432189   \n",
       "10840   0.56250  1.000000  5.096144e-03  0.190  9.999999e-03      0.004665   \n",
       "\n",
       "       content_rating_Everyone  content_rating_Mature  content_rating_Teen  \n",
       "0                          1.0                    0.0                  0.0  \n",
       "1                          1.0                    0.0                  0.0  \n",
       "2                          1.0                    0.0                  0.0  \n",
       "3                          0.0                    0.0                  1.0  \n",
       "4                          1.0                    0.0                  0.0  \n",
       "...                        ...                    ...                  ...  \n",
       "10834                      1.0                    0.0                  0.0  \n",
       "10836                      1.0                    0.0                  0.0  \n",
       "10837                      1.0                    0.0                  0.0  \n",
       "10839                      0.0                    1.0                  0.0  \n",
       "10840                      1.0                    0.0                  0.0  \n",
       "\n",
       "[9366 rows x 9 columns]"
      ]
     },
     "execution_count": 49,
     "metadata": {},
     "output_type": "execute_result"
    }
   ],
   "source": [
    "new_df"
   ]
  },
  {
   "cell_type": "markdown",
   "metadata": {},
   "source": [
    "## Training and Testing Split"
   ]
  },
  {
   "cell_type": "code",
   "execution_count": 50,
   "metadata": {},
   "outputs": [],
   "source": [
    "from sklearn.model_selection import train_test_split"
   ]
  },
  {
   "cell_type": "code",
   "execution_count": 51,
   "metadata": {},
   "outputs": [],
   "source": [
    "new_df, x_test, y_labels, y_test = train_test_split(new_df, y_labels, test_size=0.20, random_state=0, stratify=y_labels)"
   ]
  },
  {
   "cell_type": "code",
   "execution_count": 52,
   "metadata": {},
   "outputs": [
    {
     "data": {
      "text/plain": [
       "0.0    1745\n",
       "1.0     129\n",
       "Name: Type, dtype: int64"
      ]
     },
     "execution_count": 52,
     "metadata": {},
     "output_type": "execute_result"
    }
   ],
   "source": [
    "y_test.value_counts()"
   ]
  },
  {
   "cell_type": "code",
   "execution_count": 53,
   "metadata": {},
   "outputs": [
    {
     "data": {
      "text/plain": [
       "0.0    6974\n",
       "1.0     518\n",
       "Name: Type, dtype: int64"
      ]
     },
     "execution_count": 53,
     "metadata": {},
     "output_type": "execute_result"
    }
   ],
   "source": [
    "y_labels.value_counts()"
   ]
  },
  {
   "cell_type": "markdown",
   "metadata": {},
   "source": [
    "# Sampling"
   ]
  },
  {
   "cell_type": "markdown",
   "metadata": {},
   "source": [
    "Since from the above value counts we can clearly see that we have a class imbalance problem since we have only 485 instances of minority class compared to 6539 of majority class. Therefore we will be try to solve this problem using the following three techniques; Undersampling, Oversampling and Combination of both. "
   ]
  },
  {
   "cell_type": "markdown",
   "metadata": {},
   "source": [
    "## Undersampling, Oversampling, and Combination"
   ]
  },
  {
   "cell_type": "code",
   "execution_count": 54,
   "metadata": {},
   "outputs": [],
   "source": [
    "from imblearn.under_sampling import RandomUnderSampler\n",
    "from imblearn.over_sampling import SMOTE\n",
    "from imblearn.combine import SMOTEENN "
   ]
  },
  {
   "cell_type": "code",
   "execution_count": 55,
   "metadata": {},
   "outputs": [],
   "source": [
    "undersampler = RandomUnderSampler(random_state=1)\n",
    "oversampler = SMOTE(random_state=1)\n",
    "mixed_sampler = SMOTEENN(random_state=1)"
   ]
  },
  {
   "cell_type": "code",
   "execution_count": 56,
   "metadata": {},
   "outputs": [],
   "source": [
    "x_under, y_under = undersampler.fit_sample(new_df, y_labels)"
   ]
  },
  {
   "cell_type": "code",
   "execution_count": 57,
   "metadata": {},
   "outputs": [],
   "source": [
    "x_over, y_over = oversampler.fit_resample(new_df, y_labels)"
   ]
  },
  {
   "cell_type": "code",
   "execution_count": 58,
   "metadata": {},
   "outputs": [],
   "source": [
    "x_combo, y_combo = mixed_sampler.fit_sample(new_df, y_labels)"
   ]
  },
  {
   "cell_type": "code",
   "execution_count": 59,
   "metadata": {},
   "outputs": [
    {
     "data": {
      "text/plain": [
       "array([518, 518])"
      ]
     },
     "execution_count": 59,
     "metadata": {},
     "output_type": "execute_result"
    }
   ],
   "source": [
    "np.bincount(y_under.astype(int))"
   ]
  },
  {
   "cell_type": "code",
   "execution_count": 60,
   "metadata": {},
   "outputs": [
    {
     "data": {
      "text/plain": [
       "array([6974, 6974])"
      ]
     },
     "execution_count": 60,
     "metadata": {},
     "output_type": "execute_result"
    }
   ],
   "source": [
    "np.bincount(y_over.astype(int))"
   ]
  },
  {
   "cell_type": "code",
   "execution_count": 61,
   "metadata": {},
   "outputs": [
    {
     "data": {
      "text/plain": [
       "array([4968, 5619])"
      ]
     },
     "execution_count": 61,
     "metadata": {},
     "output_type": "execute_result"
    }
   ],
   "source": [
    "np.bincount(y_combo.astype(int))"
   ]
  },
  {
   "cell_type": "markdown",
   "metadata": {},
   "source": [
    "## Evaluation Metrics"
   ]
  },
  {
   "cell_type": "code",
   "execution_count": 62,
   "metadata": {},
   "outputs": [],
   "source": [
    "from sklearn import tree\n",
    "from sklearn.model_selection import cross_val_predict, cross_val_score\n",
    "from sklearn.metrics import confusion_matrix, accuracy_score, f1_score, precision_score, recall_score, roc_curve, roc_auc_score"
   ]
  },
  {
   "cell_type": "code",
   "execution_count": 63,
   "metadata": {},
   "outputs": [],
   "source": [
    "plt.style.use('ggplot')\n",
    "%matplotlib inline\n",
    "def plot_roc_curve(fpr, tpr):\n",
    "    plt.plot(fpr, tpr, color='orange', label='ROC')\n",
    "    plt.plot([0, 1], [0, 1], color='darkblue', linestyle='--')\n",
    "    plt.xlabel('False Positive Rate')\n",
    "    plt.ylabel('True Positive Rate')\n",
    "    plt.title('Receiver Operating Characteristic (ROC) Curve')\n",
    "    plt.legend()\n",
    "    plt.show()"
   ]
  },
  {
   "cell_type": "code",
   "execution_count": 68,
   "metadata": {},
   "outputs": [],
   "source": [
    "def evaluate_model(classifier, x_values, y_values):\n",
    "    y_pred = cross_val_predict(classifier, x_values, y_values, cv=10)\n",
    "    print('Accuracy: ', accuracy_score(y_values, y_pred))\n",
    "    print('Confusion Matrix: ', confusion_matrix(y_values, y_pred))\n",
    "    print('F1 Score: ',f1_score(y_values, y_pred))\n",
    "    print('Precision: ',precision_score(y_values, y_pred))\n",
    "    print('Recall: ',recall_score(y_values, y_pred))\n",
    "    fpr, tpr, thresholds = roc_curve(y_values, y_pred)\n",
    "    plot_roc_curve(fpr, tpr)\n",
    "    print('AUC Score is: ', roc_auc_score(y_values, y_pred))\n",
    "    return cross_val_score(tree_classifier, x_values, y_values, scoring='accuracy', cv=10)"
   ]
  },
  {
   "cell_type": "markdown",
   "metadata": {},
   "source": [
    "# Models and Training"
   ]
  },
  {
   "cell_type": "markdown",
   "metadata": {},
   "source": [
    "## Decision Tree"
   ]
  },
  {
   "cell_type": "code",
   "execution_count": 69,
   "metadata": {},
   "outputs": [],
   "source": [
    "tree_classifier = tree.DecisionTreeClassifier()"
   ]
  },
  {
   "cell_type": "markdown",
   "metadata": {},
   "source": [
    "### Undersampling"
   ]
  },
  {
   "cell_type": "code",
   "execution_count": 74,
   "metadata": {},
   "outputs": [
    {
     "name": "stdout",
     "output_type": "stream",
     "text": [
      "Accuracy:  0.7944015444015444\n",
      "Confusion Matrix:  [[403 115]\n",
      " [ 98 420]]\n",
      "F1 Score:  0.7977207977207977\n",
      "Precision:  0.7850467289719626\n",
      "Recall:  0.8108108108108109\n"
     ]
    },
    {
     "data": {
      "image/png": "[encoded data removed]",
      "text/plain": [
       "<Figure size 432x288 with 1 Axes>"
      ]
     },
     "metadata": {
      "needs_background": "light"
     },
     "output_type": "display_data"
    },
    {
     "name": "stdout",
     "output_type": "stream",
     "text": [
      "AUC Score is:  0.7944015444015444\n"
     ]
    }
   ],
   "source": [
    "dt_results = evaluate_model(tree_classifier, x_under, y_under)"
   ]
  },
  {
   "cell_type": "markdown",
   "metadata": {},
   "source": [
    "### Oversampling"
   ]
  },
  {
   "cell_type": "code",
   "execution_count": 75,
   "metadata": {},
   "outputs": [
    {
     "name": "stdout",
     "output_type": "stream",
     "text": [
      "Accuracy:  0.9450817321479782\n",
      "Confusion Matrix:  [[6552  422]\n",
      " [ 344 6630]]\n",
      "F1 Score:  0.9453871381719663\n",
      "Precision:  0.9401588201928531\n",
      "Recall:  0.950673931746487\n"
     ]
    },
    {
     "data": {
      "image/png": "[encoded data removed]",
      "text/plain": [
       "<Figure size 432x288 with 1 Axes>"
      ]
     },
     "metadata": {
      "needs_background": "light"
     },
     "output_type": "display_data"
    },
    {
     "name": "stdout",
     "output_type": "stream",
     "text": [
      "AUC Score is:  0.9450817321479781\n"
     ]
    }
   ],
   "source": [
    "dt_results = evaluate_model(tree_classifier, x_over, y_over)"
   ]
  },
  {
   "cell_type": "markdown",
   "metadata": {},
   "source": [
    "### Combination of Sampling"
   ]
  },
  {
   "cell_type": "code",
   "execution_count": 76,
   "metadata": {},
   "outputs": [
    {
     "name": "stdout",
     "output_type": "stream",
     "text": [
      "Accuracy:  0.957495041088127\n",
      "Confusion Matrix:  [[4702  266]\n",
      " [ 184 5435]]\n",
      "F1 Score:  0.9602473498233215\n",
      "Precision:  0.9533415190317488\n",
      "Recall:  0.9672539597793202\n"
     ]
    },
    {
     "data": {
      "image/png": "[encoded data removed]",
      "text/plain": [
       "<Figure size 432x288 with 1 Axes>"
      ]
     },
     "metadata": {
      "needs_background": "light"
     },
     "output_type": "display_data"
    },
    {
     "name": "stdout",
     "output_type": "stream",
     "text": [
      "AUC Score is:  0.9568556433357148\n"
     ]
    }
   ],
   "source": [
    "dt_results = evaluate_model(tree_classifier, x_combo, y_combo)"
   ]
  },
  {
   "cell_type": "code",
   "execution_count": null,
   "metadata": {},
   "outputs": [],
   "source": []
  },
  {
   "cell_type": "markdown",
   "metadata": {},
   "source": [
    "## Naive Based\n"
   ]
  },
  {
   "cell_type": "code",
   "execution_count": 77,
   "metadata": {},
   "outputs": [],
   "source": [
    "from sklearn.naive_bayes import GaussianNB\n",
    "naive_based = GaussianNB()"
   ]
  },
  {
   "cell_type": "markdown",
   "metadata": {},
   "source": [
    "### Undersampling"
   ]
  },
  {
   "cell_type": "code",
   "execution_count": 78,
   "metadata": {
    "scrolled": false
   },
   "outputs": [
    {
     "name": "stdout",
     "output_type": "stream",
     "text": [
      "Accuracy:  0.6814671814671814\n",
      "Confusion Matrix:  [[190 328]\n",
      " [  2 516]]\n",
      "F1 Score:  0.7577092511013216\n",
      "Precision:  0.6113744075829384\n",
      "Recall:  0.9961389961389961\n"
     ]
    },
    {
     "data": {
      "image/png": "[encoded data removed]",
      "text/plain": [
       "<Figure size 432x288 with 1 Axes>"
      ]
     },
     "metadata": {
      "needs_background": "light"
     },
     "output_type": "display_data"
    },
    {
     "name": "stdout",
     "output_type": "stream",
     "text": [
      "AUC Score is:  0.6814671814671815\n"
     ]
    }
   ],
   "source": [
    "nb_results = evaluate_model(naive_based, x_under, y_under)"
   ]
  },
  {
   "cell_type": "markdown",
   "metadata": {},
   "source": [
    "### Oversampling"
   ]
  },
  {
   "cell_type": "code",
   "execution_count": 79,
   "metadata": {},
   "outputs": [
    {
     "name": "stdout",
     "output_type": "stream",
     "text": [
      "Accuracy:  0.6593059936908517\n",
      "Confusion Matrix:  [[2273 4701]\n",
      " [  51 6923]]\n",
      "F1 Score:  0.7444886546940531\n",
      "Precision:  0.5955781142463867\n",
      "Recall:  0.9926871236019501\n"
     ]
    },
    {
     "data": {
      "image/png": "[encoded data removed]",
      "text/plain": [
       "<Figure size 432x288 with 1 Axes>"
      ]
     },
     "metadata": {
      "needs_background": "light"
     },
     "output_type": "display_data"
    },
    {
     "name": "stdout",
     "output_type": "stream",
     "text": [
      "AUC Score is:  0.6593059936908517\n"
     ]
    }
   ],
   "source": [
    "nb_results = evaluate_model(naive_based, x_over, y_over)"
   ]
  },
  {
   "cell_type": "markdown",
   "metadata": {},
   "source": [
    "### Combination of sampling"
   ]
  },
  {
   "cell_type": "code",
   "execution_count": 80,
   "metadata": {},
   "outputs": [
    {
     "name": "stdout",
     "output_type": "stream",
     "text": [
      "Accuracy:  0.7056767734013413\n",
      "Confusion Matrix:  [[1895 3073]\n",
      " [  43 5576]]\n",
      "F1 Score:  0.7816091954022988\n",
      "Precision:  0.6446988091108798\n",
      "Recall:  0.992347392774515\n"
     ]
    },
    {
     "data": {
      "image/png": "[encoded data removed]",
      "text/plain": [
       "<Figure size 432x288 with 1 Axes>"
      ]
     },
     "metadata": {
      "needs_background": "light"
     },
     "output_type": "display_data"
    },
    {
     "name": "stdout",
     "output_type": "stream",
     "text": [
      "AUC Score is:  0.6868943083035216\n"
     ]
    }
   ],
   "source": [
    "nb_results = evaluate_model(naive_based, x_combo, y_combo)"
   ]
  },
  {
   "cell_type": "code",
   "execution_count": null,
   "metadata": {},
   "outputs": [],
   "source": []
  },
  {
   "cell_type": "markdown",
   "metadata": {},
   "source": [
    "## k-nearnest Neighbours "
   ]
  },
  {
   "cell_type": "code",
   "execution_count": 81,
   "metadata": {},
   "outputs": [],
   "source": [
    "from sklearn.neighbors import KNeighborsClassifier\n",
    "knn_3 = KNeighborsClassifier(n_neighbors = 3)\n",
    "knn_5 = KNeighborsClassifier(n_neighbors = 5)"
   ]
  },
  {
   "cell_type": "markdown",
   "metadata": {},
   "source": [
    "### Undersampling"
   ]
  },
  {
   "cell_type": "code",
   "execution_count": 82,
   "metadata": {},
   "outputs": [
    {
     "name": "stdout",
     "output_type": "stream",
     "text": [
      "kNN with 3 Neighbours\n",
      "Accuracy:  0.6216216216216216\n",
      "Confusion Matrix:  [[309 209]\n",
      " [183 335]]\n",
      "F1 Score:  0.6308851224105462\n",
      "Precision:  0.6158088235294118\n",
      "Recall:  0.6467181467181468\n"
     ]
    },
    {
     "data": {
      "image/png": "[encoded data removed]",
      "text/plain": [
       "<Figure size 432x288 with 1 Axes>"
      ]
     },
     "metadata": {
      "needs_background": "light"
     },
     "output_type": "display_data"
    },
    {
     "name": "stdout",
     "output_type": "stream",
     "text": [
      "AUC Score is:  0.6216216216216217\n",
      "kNN with 5 Neighbours\n",
      "Accuracy:  0.6216216216216216\n",
      "Confusion Matrix:  [[304 214]\n",
      " [178 340]]\n",
      "F1 Score:  0.6343283582089553\n",
      "Precision:  0.6137184115523465\n",
      "Recall:  0.6563706563706564\n"
     ]
    },
    {
     "data": {
      "image/png": "[encoded data removed]",
      "text/plain": [
       "<Figure size 432x288 with 1 Axes>"
      ]
     },
     "metadata": {
      "needs_background": "light"
     },
     "output_type": "display_data"
    },
    {
     "name": "stdout",
     "output_type": "stream",
     "text": [
      "AUC Score is:  0.6216216216216216\n"
     ]
    }
   ],
   "source": [
    "print('kNN with 3 Neighbours')\n",
    "kn3_results = evaluate_model(knn_3, x_under, y_under)\n",
    "print('kNN with 5 Neighbours')\n",
    "kn5_results = evaluate_model(knn_5, x_under, y_under)"
   ]
  },
  {
   "cell_type": "markdown",
   "metadata": {},
   "source": [
    "### Oversampling"
   ]
  },
  {
   "cell_type": "code",
   "execution_count": 83,
   "metadata": {},
   "outputs": [
    {
     "name": "stdout",
     "output_type": "stream",
     "text": [
      "kNN with 3 Neighbours\n",
      "Accuracy:  0.8785488958990536\n",
      "Confusion Matrix:  [[5684 1290]\n",
      " [ 404 6570]]\n",
      "F1 Score:  0.8858028852635836\n",
      "Precision:  0.8358778625954199\n",
      "Recall:  0.9420705477487812\n"
     ]
    },
    {
     "data": {
      "image/png": "[encoded data removed]",
      "text/plain": [
       "<Figure size 432x288 with 1 Axes>"
      ]
     },
     "metadata": {
      "needs_background": "light"
     },
     "output_type": "display_data"
    },
    {
     "name": "stdout",
     "output_type": "stream",
     "text": [
      "AUC Score is:  0.8785488958990536\n",
      "kNN with 5 Neighbours\n",
      "Accuracy:  0.8622741611700602\n",
      "Confusion Matrix:  [[5502 1472]\n",
      " [ 449 6525]]\n",
      "F1 Score:  0.8716852581657872\n",
      "Precision:  0.8159309741152933\n",
      "Recall:  0.9356180097505019\n"
     ]
    },
    {
     "data": {
      "image/png": "[encoded data removed]",
      "text/plain": [
       "<Figure size 432x288 with 1 Axes>"
      ]
     },
     "metadata": {
      "needs_background": "light"
     },
     "output_type": "display_data"
    },
    {
     "name": "stdout",
     "output_type": "stream",
     "text": [
      "AUC Score is:  0.8622741611700603\n"
     ]
    }
   ],
   "source": [
    "print('kNN with 3 Neighbours')\n",
    "kn3_results = evaluate_model(knn_3, x_over, y_over)\n",
    "print('kNN with 5 Neighbours')\n",
    "kn5_results = evaluate_model(knn_5, x_over, y_over)"
   ]
  },
  {
   "cell_type": "markdown",
   "metadata": {},
   "source": [
    "### Combination of Sampling"
   ]
  },
  {
   "cell_type": "code",
   "execution_count": 84,
   "metadata": {},
   "outputs": [
    {
     "name": "stdout",
     "output_type": "stream",
     "text": [
      "kNN with 3 Neighbours\n",
      "Accuracy:  0.9833758382922452\n",
      "Confusion Matrix:  [[4821  147]\n",
      " [  29 5590]]\n",
      "F1 Score:  0.9845015850651638\n",
      "Precision:  0.9743768520132473\n",
      "Recall:  0.994838939313045\n"
     ]
    },
    {
     "data": {
      "image/png": "[encoded data removed]",
      "text/plain": [
       "<Figure size 432x288 with 1 Axes>"
      ]
     },
     "metadata": {
      "needs_background": "light"
     },
     "output_type": "display_data"
    },
    {
     "name": "stdout",
     "output_type": "stream",
     "text": [
      "AUC Score is:  0.9826247836661843\n",
      "kNN with 5 Neighbours\n",
      "Accuracy:  0.9676017757627279\n",
      "Confusion Matrix:  [[4693  275]\n",
      " [  68 5551]]\n",
      "F1 Score:  0.9700305810397554\n",
      "Precision:  0.9527978029522829\n",
      "Recall:  0.9878982025271401\n"
     ]
    },
    {
     "data": {
      "image/png": "[encoded data removed]",
      "text/plain": [
       "<Figure size 432x288 with 1 Axes>"
      ]
     },
     "metadata": {
      "needs_background": "light"
     },
     "output_type": "display_data"
    },
    {
     "name": "stdout",
     "output_type": "stream",
     "text": [
      "AUC Score is:  0.9662719676081756\n"
     ]
    }
   ],
   "source": [
    "print('kNN with 3 Neighbours')\n",
    "kn3_results = evaluate_model(knn_3, x_combo, y_combo)\n",
    "print('kNN with 5 Neighbours')\n",
    "kn5_results = evaluate_model(knn_5, x_combo, y_combo)"
   ]
  },
  {
   "cell_type": "code",
   "execution_count": null,
   "metadata": {},
   "outputs": [],
   "source": []
  },
  {
   "cell_type": "markdown",
   "metadata": {},
   "source": [
    "## Linear Classifier"
   ]
  },
  {
   "cell_type": "code",
   "execution_count": 85,
   "metadata": {},
   "outputs": [],
   "source": [
    "from sklearn.linear_model import SGDClassifier"
   ]
  },
  {
   "cell_type": "markdown",
   "metadata": {},
   "source": [
    "### Undersampling"
   ]
  },
  {
   "cell_type": "code",
   "execution_count": 86,
   "metadata": {},
   "outputs": [
    {
     "name": "stderr",
     "output_type": "stream",
     "text": [
      "/home/kuldeep/Documents/CNN/cnn/lib/python3.6/site-packages/sklearn/linear_model/stochastic_gradient.py:561: ConvergenceWarning: Maximum number of iteration reached before convergence. Consider increasing max_iter to improve the fit.\n",
      "  ConvergenceWarning)\n",
      "/home/kuldeep/Documents/CNN/cnn/lib/python3.6/site-packages/sklearn/linear_model/stochastic_gradient.py:561: ConvergenceWarning: Maximum number of iteration reached before convergence. Consider increasing max_iter to improve the fit.\n",
      "  ConvergenceWarning)\n",
      "/home/kuldeep/Documents/CNN/cnn/lib/python3.6/site-packages/sklearn/linear_model/stochastic_gradient.py:561: ConvergenceWarning: Maximum number of iteration reached before convergence. Consider increasing max_iter to improve the fit.\n",
      "  ConvergenceWarning)\n",
      "/home/kuldeep/Documents/CNN/cnn/lib/python3.6/site-packages/sklearn/linear_model/stochastic_gradient.py:561: ConvergenceWarning: Maximum number of iteration reached before convergence. Consider increasing max_iter to improve the fit.\n",
      "  ConvergenceWarning)\n",
      "/home/kuldeep/Documents/CNN/cnn/lib/python3.6/site-packages/sklearn/linear_model/stochastic_gradient.py:561: ConvergenceWarning: Maximum number of iteration reached before convergence. Consider increasing max_iter to improve the fit.\n",
      "  ConvergenceWarning)\n",
      "/home/kuldeep/Documents/CNN/cnn/lib/python3.6/site-packages/sklearn/linear_model/stochastic_gradient.py:561: ConvergenceWarning: Maximum number of iteration reached before convergence. Consider increasing max_iter to improve the fit.\n",
      "  ConvergenceWarning)\n",
      "/home/kuldeep/Documents/CNN/cnn/lib/python3.6/site-packages/sklearn/linear_model/stochastic_gradient.py:561: ConvergenceWarning: Maximum number of iteration reached before convergence. Consider increasing max_iter to improve the fit.\n",
      "  ConvergenceWarning)\n",
      "/home/kuldeep/Documents/CNN/cnn/lib/python3.6/site-packages/sklearn/linear_model/stochastic_gradient.py:561: ConvergenceWarning: Maximum number of iteration reached before convergence. Consider increasing max_iter to improve the fit.\n",
      "  ConvergenceWarning)\n",
      "/home/kuldeep/Documents/CNN/cnn/lib/python3.6/site-packages/sklearn/linear_model/stochastic_gradient.py:561: ConvergenceWarning: Maximum number of iteration reached before convergence. Consider increasing max_iter to improve the fit.\n",
      "  ConvergenceWarning)\n",
      "/home/kuldeep/Documents/CNN/cnn/lib/python3.6/site-packages/sklearn/linear_model/stochastic_gradient.py:561: ConvergenceWarning: Maximum number of iteration reached before convergence. Consider increasing max_iter to improve the fit.\n",
      "  ConvergenceWarning)\n",
      "/home/kuldeep/Documents/CNN/cnn/lib/python3.6/site-packages/sklearn/linear_model/stochastic_gradient.py:561: ConvergenceWarning: Maximum number of iteration reached before convergence. Consider increasing max_iter to improve the fit.\n",
      "  ConvergenceWarning)\n"
     ]
    },
    {
     "name": "stdout",
     "output_type": "stream",
     "text": [
      "Accuracy:  0.5395752895752896\n",
      "Confusion Matrix:  [[297 221]\n",
      " [256 262]]\n",
      "F1 Score:  0.5234765234765235\n",
      "Precision:  0.5424430641821946\n",
      "Recall:  0.5057915057915058\n"
     ]
    },
    {
     "data": {
      "image/png": "[encoded data removed]",
      "text/plain": [
       "<Figure size 432x288 with 1 Axes>"
      ]
     },
     "metadata": {
      "needs_background": "light"
     },
     "output_type": "display_data"
    },
    {
     "name": "stdout",
     "output_type": "stream",
     "text": [
      "AUC Score is:  0.5395752895752897\n"
     ]
    }
   ],
   "source": [
    "linear_under = SGDClassifier(max_iter=1, learning_rate='optimal')\n",
    "linear_under.fit(x_under, y_under)\n",
    "sgd_results = evaluate_model(linear_under, x_under, y_under)"
   ]
  },
  {
   "cell_type": "markdown",
   "metadata": {},
   "source": [
    "### Oversampling"
   ]
  },
  {
   "cell_type": "code",
   "execution_count": 88,
   "metadata": {},
   "outputs": [
    {
     "name": "stderr",
     "output_type": "stream",
     "text": [
      "/home/kuldeep/Documents/CNN/cnn/lib/python3.6/site-packages/sklearn/linear_model/stochastic_gradient.py:561: ConvergenceWarning: Maximum number of iteration reached before convergence. Consider increasing max_iter to improve the fit.\n",
      "  ConvergenceWarning)\n",
      "/home/kuldeep/Documents/CNN/cnn/lib/python3.6/site-packages/sklearn/linear_model/stochastic_gradient.py:561: ConvergenceWarning: Maximum number of iteration reached before convergence. Consider increasing max_iter to improve the fit.\n",
      "  ConvergenceWarning)\n",
      "/home/kuldeep/Documents/CNN/cnn/lib/python3.6/site-packages/sklearn/linear_model/stochastic_gradient.py:561: ConvergenceWarning: Maximum number of iteration reached before convergence. Consider increasing max_iter to improve the fit.\n",
      "  ConvergenceWarning)\n",
      "/home/kuldeep/Documents/CNN/cnn/lib/python3.6/site-packages/sklearn/linear_model/stochastic_gradient.py:561: ConvergenceWarning: Maximum number of iteration reached before convergence. Consider increasing max_iter to improve the fit.\n",
      "  ConvergenceWarning)\n",
      "/home/kuldeep/Documents/CNN/cnn/lib/python3.6/site-packages/sklearn/linear_model/stochastic_gradient.py:561: ConvergenceWarning: Maximum number of iteration reached before convergence. Consider increasing max_iter to improve the fit.\n",
      "  ConvergenceWarning)\n",
      "/home/kuldeep/Documents/CNN/cnn/lib/python3.6/site-packages/sklearn/linear_model/stochastic_gradient.py:561: ConvergenceWarning: Maximum number of iteration reached before convergence. Consider increasing max_iter to improve the fit.\n",
      "  ConvergenceWarning)\n",
      "/home/kuldeep/Documents/CNN/cnn/lib/python3.6/site-packages/sklearn/linear_model/stochastic_gradient.py:561: ConvergenceWarning: Maximum number of iteration reached before convergence. Consider increasing max_iter to improve the fit.\n",
      "  ConvergenceWarning)\n",
      "/home/kuldeep/Documents/CNN/cnn/lib/python3.6/site-packages/sklearn/linear_model/stochastic_gradient.py:561: ConvergenceWarning: Maximum number of iteration reached before convergence. Consider increasing max_iter to improve the fit.\n",
      "  ConvergenceWarning)\n",
      "/home/kuldeep/Documents/CNN/cnn/lib/python3.6/site-packages/sklearn/linear_model/stochastic_gradient.py:561: ConvergenceWarning: Maximum number of iteration reached before convergence. Consider increasing max_iter to improve the fit.\n",
      "  ConvergenceWarning)\n",
      "/home/kuldeep/Documents/CNN/cnn/lib/python3.6/site-packages/sklearn/linear_model/stochastic_gradient.py:561: ConvergenceWarning: Maximum number of iteration reached before convergence. Consider increasing max_iter to improve the fit.\n",
      "  ConvergenceWarning)\n",
      "/home/kuldeep/Documents/CNN/cnn/lib/python3.6/site-packages/sklearn/linear_model/stochastic_gradient.py:561: ConvergenceWarning: Maximum number of iteration reached before convergence. Consider increasing max_iter to improve the fit.\n",
      "  ConvergenceWarning)\n"
     ]
    },
    {
     "name": "stdout",
     "output_type": "stream",
     "text": [
      "Accuracy:  0.5713363923143103\n",
      "Confusion Matrix:  [[4244 2730]\n",
      " [3249 3725]]\n",
      "F1 Score:  0.554769528632065\n",
      "Precision:  0.5770720371804803\n",
      "Recall:  0.5341267565242329\n"
     ]
    },
    {
     "data": {
      "image/png": "[encoded data removed]",
      "text/plain": [
       "<Figure size 432x288 with 1 Axes>"
      ]
     },
     "metadata": {
      "needs_background": "light"
     },
     "output_type": "display_data"
    },
    {
     "name": "stdout",
     "output_type": "stream",
     "text": [
      "AUC Score is:  0.5713363923143103\n"
     ]
    }
   ],
   "source": [
    "linear_over = SGDClassifier(max_iter=1, learning_rate='optimal')\n",
    "linear_over.fit(x_over, y_over)\n",
    "sgd_results = evaluate_model(linear_over, x_over, y_over)"
   ]
  },
  {
   "cell_type": "markdown",
   "metadata": {},
   "source": [
    "### Combination of Sampling"
   ]
  },
  {
   "cell_type": "code",
   "execution_count": 89,
   "metadata": {},
   "outputs": [
    {
     "name": "stderr",
     "output_type": "stream",
     "text": [
      "/home/kuldeep/Documents/CNN/cnn/lib/python3.6/site-packages/sklearn/linear_model/stochastic_gradient.py:561: ConvergenceWarning: Maximum number of iteration reached before convergence. Consider increasing max_iter to improve the fit.\n",
      "  ConvergenceWarning)\n",
      "/home/kuldeep/Documents/CNN/cnn/lib/python3.6/site-packages/sklearn/linear_model/stochastic_gradient.py:561: ConvergenceWarning: Maximum number of iteration reached before convergence. Consider increasing max_iter to improve the fit.\n",
      "  ConvergenceWarning)\n",
      "/home/kuldeep/Documents/CNN/cnn/lib/python3.6/site-packages/sklearn/linear_model/stochastic_gradient.py:561: ConvergenceWarning: Maximum number of iteration reached before convergence. Consider increasing max_iter to improve the fit.\n",
      "  ConvergenceWarning)\n",
      "/home/kuldeep/Documents/CNN/cnn/lib/python3.6/site-packages/sklearn/linear_model/stochastic_gradient.py:561: ConvergenceWarning: Maximum number of iteration reached before convergence. Consider increasing max_iter to improve the fit.\n",
      "  ConvergenceWarning)\n",
      "/home/kuldeep/Documents/CNN/cnn/lib/python3.6/site-packages/sklearn/linear_model/stochastic_gradient.py:561: ConvergenceWarning: Maximum number of iteration reached before convergence. Consider increasing max_iter to improve the fit.\n",
      "  ConvergenceWarning)\n",
      "/home/kuldeep/Documents/CNN/cnn/lib/python3.6/site-packages/sklearn/linear_model/stochastic_gradient.py:561: ConvergenceWarning: Maximum number of iteration reached before convergence. Consider increasing max_iter to improve the fit.\n",
      "  ConvergenceWarning)\n",
      "/home/kuldeep/Documents/CNN/cnn/lib/python3.6/site-packages/sklearn/linear_model/stochastic_gradient.py:561: ConvergenceWarning: Maximum number of iteration reached before convergence. Consider increasing max_iter to improve the fit.\n",
      "  ConvergenceWarning)\n",
      "/home/kuldeep/Documents/CNN/cnn/lib/python3.6/site-packages/sklearn/linear_model/stochastic_gradient.py:561: ConvergenceWarning: Maximum number of iteration reached before convergence. Consider increasing max_iter to improve the fit.\n",
      "  ConvergenceWarning)\n",
      "/home/kuldeep/Documents/CNN/cnn/lib/python3.6/site-packages/sklearn/linear_model/stochastic_gradient.py:561: ConvergenceWarning: Maximum number of iteration reached before convergence. Consider increasing max_iter to improve the fit.\n",
      "  ConvergenceWarning)\n",
      "/home/kuldeep/Documents/CNN/cnn/lib/python3.6/site-packages/sklearn/linear_model/stochastic_gradient.py:561: ConvergenceWarning: Maximum number of iteration reached before convergence. Consider increasing max_iter to improve the fit.\n",
      "  ConvergenceWarning)\n",
      "/home/kuldeep/Documents/CNN/cnn/lib/python3.6/site-packages/sklearn/linear_model/stochastic_gradient.py:561: ConvergenceWarning: Maximum number of iteration reached before convergence. Consider increasing max_iter to improve the fit.\n",
      "  ConvergenceWarning)\n"
     ]
    },
    {
     "name": "stdout",
     "output_type": "stream",
     "text": [
      "Accuracy:  0.6327571550014168\n",
      "Confusion Matrix:  [[2443 2525]\n",
      " [1363 4256]]\n",
      "F1 Score:  0.6864516129032259\n",
      "Precision:  0.6276360418817284\n",
      "Recall:  0.7574301477131162\n"
     ]
    },
    {
     "data": {
      "image/png": "[encoded data removed]",
      "text/plain": [
       "<Figure size 432x288 with 1 Axes>"
      ]
     },
     "metadata": {
      "needs_background": "light"
     },
     "output_type": "display_data"
    },
    {
     "name": "stdout",
     "output_type": "stream",
     "text": [
      "AUC Score is:  0.6245886648388447\n"
     ]
    }
   ],
   "source": [
    "linear_combo = SGDClassifier(max_iter=1, learning_rate='optimal')\n",
    "linear_combo.fit(x_combo, y_combo)\n",
    "sgd_results = evaluate_model(linear_combo, x_combo, y_combo)"
   ]
  },
  {
   "cell_type": "code",
   "execution_count": null,
   "metadata": {},
   "outputs": [],
   "source": []
  },
  {
   "cell_type": "markdown",
   "metadata": {},
   "source": [
    "## Ensemble"
   ]
  },
  {
   "cell_type": "markdown",
   "metadata": {},
   "source": [
    "## BaggingClassifier"
   ]
  },
  {
   "cell_type": "code",
   "execution_count": 90,
   "metadata": {},
   "outputs": [],
   "source": [
    "from sklearn.ensemble import BaggingClassifier"
   ]
  },
  {
   "cell_type": "markdown",
   "metadata": {},
   "source": [
    "### Undersampling"
   ]
  },
  {
   "cell_type": "code",
   "execution_count": 91,
   "metadata": {},
   "outputs": [
    {
     "name": "stdout",
     "output_type": "stream",
     "text": [
      "Accuracy:  0.8137065637065637\n",
      "Confusion Matrix:  [[414 104]\n",
      " [ 89 429]]\n",
      "F1 Score:  0.8163653663177926\n",
      "Precision:  0.8048780487804879\n",
      "Recall:  0.8281853281853282\n"
     ]
    },
    {
     "data": {
      "image/png": "[encoded data removed]",
      "text/plain": [
       "<Figure size 432x288 with 1 Axes>"
      ]
     },
     "metadata": {
      "needs_background": "light"
     },
     "output_type": "display_data"
    },
    {
     "name": "stdout",
     "output_type": "stream",
     "text": [
      "AUC Score is:  0.8137065637065637\n"
     ]
    }
   ],
   "source": [
    "under_bagging = BaggingClassifier(tree.DecisionTreeClassifier(random_state=1))\n",
    "under_bagging = under_bagging.fit(x_under, y_under)\n",
    "bagging_results = evaluate_model(under_bagging, x_under, y_under)"
   ]
  },
  {
   "cell_type": "markdown",
   "metadata": {},
   "source": [
    "### Oversampling"
   ]
  },
  {
   "cell_type": "code",
   "execution_count": 92,
   "metadata": {},
   "outputs": [
    {
     "name": "stdout",
     "output_type": "stream",
     "text": [
      "Accuracy:  0.9614998566102667\n",
      "Confusion Matrix:  [[6671  303]\n",
      " [ 234 6740]]\n",
      "F1 Score:  0.961689377184847\n",
      "Precision:  0.9569785602726111\n",
      "Recall:  0.9664468024089475\n"
     ]
    },
    {
     "data": {
      "image/png": "[encoded data removed]",
      "text/plain": [
       "<Figure size 432x288 with 1 Axes>"
      ]
     },
     "metadata": {
      "needs_background": "light"
     },
     "output_type": "display_data"
    },
    {
     "name": "stdout",
     "output_type": "stream",
     "text": [
      "AUC Score is:  0.9614998566102668\n"
     ]
    }
   ],
   "source": [
    "over_bagging = BaggingClassifier(tree.DecisionTreeClassifier(random_state=1))\n",
    "over_bagging = over_bagging.fit(x_over, y_over)\n",
    "bagging_results = evaluate_model(over_bagging, x_over, y_over)"
   ]
  },
  {
   "cell_type": "markdown",
   "metadata": {},
   "source": [
    "### Combination of Sampling"
   ]
  },
  {
   "cell_type": "code",
   "execution_count": 93,
   "metadata": {},
   "outputs": [
    {
     "name": "stdout",
     "output_type": "stream",
     "text": [
      "Accuracy:  0.9700576178331917\n",
      "Confusion Matrix:  [[4771  197]\n",
      " [ 120 5499]]\n",
      "F1 Score:  0.9719840919133893\n",
      "Precision:  0.9654143258426966\n",
      "Recall:  0.9786438868126001\n"
     ]
    },
    {
     "data": {
      "image/png": "[encoded data removed]",
      "text/plain": [
       "<Figure size 432x288 with 1 Axes>"
      ]
     },
     "metadata": {
      "needs_background": "light"
     },
     "output_type": "display_data"
    },
    {
     "name": "stdout",
     "output_type": "stream",
     "text": [
      "AUC Score is:  0.9694950512967994\n"
     ]
    }
   ],
   "source": [
    "combo_bagging = BaggingClassifier(tree.DecisionTreeClassifier(random_state=1))\n",
    "combo_bagging = combo_bagging.fit(x_combo, y_combo)\n",
    "bagging_results = evaluate_model(combo_bagging, x_combo, y_combo)"
   ]
  },
  {
   "cell_type": "code",
   "execution_count": null,
   "metadata": {},
   "outputs": [],
   "source": []
  },
  {
   "cell_type": "markdown",
   "metadata": {},
   "source": [
    "## Feature Selection"
   ]
  },
  {
   "cell_type": "code",
   "execution_count": 94,
   "metadata": {},
   "outputs": [],
   "source": [
    "from sklearn.ensemble import RandomForestClassifier"
   ]
  },
  {
   "cell_type": "code",
   "execution_count": 95,
   "metadata": {},
   "outputs": [
    {
     "name": "stdout",
     "output_type": "stream",
     "text": [
      "[0.10156394 0.04144634 0.15861482 0.07621253 0.44750945 0.1493799\n",
      " 0.01063439 0.0074435  0.00719513]\n"
     ]
    }
   ],
   "source": [
    "random_forest = RandomForestClassifier(n_estimators=20)\n",
    "random_forest.fit(x_combo, y_combo)\n",
    "print(random_forest.feature_importances_)"
   ]
  },
  {
   "cell_type": "code",
   "execution_count": 96,
   "metadata": {},
   "outputs": [],
   "source": [
    "x_combo = np.delete(x_combo, -1, 1)\n",
    "x_combo = np.delete(x_combo, -1, 1)\n",
    "x_combo = np.delete(x_combo, -1, 1)\n",
    "x_combo = np.delete(x_combo, 1, 1)"
   ]
  },
  {
   "cell_type": "code",
   "execution_count": 97,
   "metadata": {},
   "outputs": [
    {
     "data": {
      "text/plain": [
       "(10587, 5)"
      ]
     },
     "execution_count": 97,
     "metadata": {},
     "output_type": "execute_result"
    }
   ],
   "source": [
    "x_combo.shape"
   ]
  },
  {
   "cell_type": "markdown",
   "metadata": {},
   "source": [
    "### Decision Tree"
   ]
  },
  {
   "cell_type": "code",
   "execution_count": 98,
   "metadata": {},
   "outputs": [
    {
     "name": "stdout",
     "output_type": "stream",
     "text": [
      "Accuracy:  0.9541890998394257\n",
      "Confusion Matrix:  [[4678  290]\n",
      " [ 195 5424]]\n",
      "F1 Score:  0.957204623665402\n",
      "Precision:  0.9492474623731186\n",
      "Recall:  0.9652963160704752\n"
     ]
    },
    {
     "data": {
      "image/png": "[encoded data removed]",
      "text/plain": [
       "<Figure size 432x288 with 1 Axes>"
      ]
     },
     "metadata": {
      "needs_background": "light"
     },
     "output_type": "display_data"
    },
    {
     "name": "stdout",
     "output_type": "stream",
     "text": [
      "AUC Score is:  0.9534613625440942\n"
     ]
    },
    {
     "data": {
      "text/plain": [
       "array([0.89612842, 0.96600567, 0.9631728 , 0.95845137, 0.96789424,\n",
       "       0.95561851, 0.95089707, 0.96883853, 0.96880907, 0.95837275])"
      ]
     },
     "execution_count": 98,
     "metadata": {},
     "output_type": "execute_result"
    }
   ],
   "source": [
    "evaluate_model(tree_classifier, x_combo, y_combo)"
   ]
  },
  {
   "cell_type": "code",
   "execution_count": null,
   "metadata": {},
   "outputs": [],
   "source": []
  },
  {
   "cell_type": "markdown",
   "metadata": {},
   "source": [
    "### Naive Bayes"
   ]
  },
  {
   "cell_type": "code",
   "execution_count": 99,
   "metadata": {},
   "outputs": [
    {
     "name": "stdout",
     "output_type": "stream",
     "text": [
      "Accuracy:  0.7053934070085954\n",
      "Confusion Matrix:  [[1892 3076]\n",
      " [  43 5576]]\n",
      "F1 Score:  0.7814448882348819\n",
      "Precision:  0.6444752658344891\n",
      "Recall:  0.992347392774515\n"
     ]
    },
    {
     "data": {
      "image/png": "[encoded data removed]",
      "text/plain": [
       "<Figure size 432x288 with 1 Axes>"
      ]
     },
     "metadata": {
      "needs_background": "light"
     },
     "output_type": "display_data"
    },
    {
     "name": "stdout",
     "output_type": "stream",
     "text": [
      "AUC Score is:  0.6865923759363719\n"
     ]
    },
    {
     "data": {
      "text/plain": [
       "array([0.89612842, 0.96033994, 0.96222852, 0.95939566, 0.96600567,\n",
       "       0.95467422, 0.96128423, 0.96789424, 0.963138  , 0.9602649 ])"
      ]
     },
     "execution_count": 99,
     "metadata": {},
     "output_type": "execute_result"
    }
   ],
   "source": [
    "evaluate_model(naive_based, x_combo, y_combo)"
   ]
  },
  {
   "cell_type": "markdown",
   "metadata": {},
   "source": [
    "## kNN"
   ]
  },
  {
   "cell_type": "code",
   "execution_count": 100,
   "metadata": {},
   "outputs": [
    {
     "name": "stdout",
     "output_type": "stream",
     "text": [
      "Accuracy:  0.9061112685368848\n",
      "Confusion Matrix:  [[4224  744]\n",
      " [ 250 5369]]\n",
      "F1 Score:  0.91527446300716\n",
      "Precision:  0.878292164240144\n",
      "Recall:  0.9555080975262502\n"
     ]
    },
    {
     "data": {
      "image/png": "[encoded data removed]",
      "text/plain": [
       "<Figure size 432x288 with 1 Axes>"
      ]
     },
     "metadata": {
      "needs_background": "light"
     },
     "output_type": "display_data"
    },
    {
     "name": "stdout",
     "output_type": "stream",
     "text": [
      "AUC Score is:  0.902874821709985\n",
      "Accuracy:  0.8916595825068481\n",
      "Confusion Matrix:  [[4105  863]\n",
      " [ 284 5335]]\n",
      "F1 Score:  0.902936447490903\n",
      "Precision:  0.8607615359793481\n",
      "Recall:  0.9494571987898203\n"
     ]
    },
    {
     "data": {
      "image/png": "[encoded data removed]",
      "text/plain": [
       "<Figure size 432x288 with 1 Axes>"
      ]
     },
     "metadata": {
      "needs_background": "light"
     },
     "output_type": "display_data"
    },
    {
     "name": "stdout",
     "output_type": "stream",
     "text": [
      "AUC Score is:  0.887872721778163\n"
     ]
    },
    {
     "data": {
      "text/plain": [
       "array([0.89990557, 0.95939566, 0.96411709, 0.9565628 , 0.96694995,\n",
       "       0.9490085 , 0.9565628 , 0.96694995, 0.963138  , 0.95742668])"
      ]
     },
     "execution_count": 100,
     "metadata": {},
     "output_type": "execute_result"
    }
   ],
   "source": [
    "evaluate_model(knn_3, x_combo, y_combo)\n",
    "evaluate_model(knn_5, x_combo, y_combo)"
   ]
  },
  {
   "cell_type": "code",
   "execution_count": null,
   "metadata": {},
   "outputs": [],
   "source": []
  },
  {
   "cell_type": "markdown",
   "metadata": {},
   "source": [
    "### Linear Classifier"
   ]
  },
  {
   "cell_type": "code",
   "execution_count": 101,
   "metadata": {},
   "outputs": [
    {
     "name": "stderr",
     "output_type": "stream",
     "text": [
      "/home/kuldeep/Documents/CNN/cnn/lib/python3.6/site-packages/sklearn/linear_model/stochastic_gradient.py:561: ConvergenceWarning: Maximum number of iteration reached before convergence. Consider increasing max_iter to improve the fit.\n",
      "  ConvergenceWarning)\n",
      "/home/kuldeep/Documents/CNN/cnn/lib/python3.6/site-packages/sklearn/linear_model/stochastic_gradient.py:561: ConvergenceWarning: Maximum number of iteration reached before convergence. Consider increasing max_iter to improve the fit.\n",
      "  ConvergenceWarning)\n",
      "/home/kuldeep/Documents/CNN/cnn/lib/python3.6/site-packages/sklearn/linear_model/stochastic_gradient.py:561: ConvergenceWarning: Maximum number of iteration reached before convergence. Consider increasing max_iter to improve the fit.\n",
      "  ConvergenceWarning)\n",
      "/home/kuldeep/Documents/CNN/cnn/lib/python3.6/site-packages/sklearn/linear_model/stochastic_gradient.py:561: ConvergenceWarning: Maximum number of iteration reached before convergence. Consider increasing max_iter to improve the fit.\n",
      "  ConvergenceWarning)\n",
      "/home/kuldeep/Documents/CNN/cnn/lib/python3.6/site-packages/sklearn/linear_model/stochastic_gradient.py:561: ConvergenceWarning: Maximum number of iteration reached before convergence. Consider increasing max_iter to improve the fit.\n",
      "  ConvergenceWarning)\n",
      "/home/kuldeep/Documents/CNN/cnn/lib/python3.6/site-packages/sklearn/linear_model/stochastic_gradient.py:561: ConvergenceWarning: Maximum number of iteration reached before convergence. Consider increasing max_iter to improve the fit.\n",
      "  ConvergenceWarning)\n",
      "/home/kuldeep/Documents/CNN/cnn/lib/python3.6/site-packages/sklearn/linear_model/stochastic_gradient.py:561: ConvergenceWarning: Maximum number of iteration reached before convergence. Consider increasing max_iter to improve the fit.\n",
      "  ConvergenceWarning)\n",
      "/home/kuldeep/Documents/CNN/cnn/lib/python3.6/site-packages/sklearn/linear_model/stochastic_gradient.py:561: ConvergenceWarning: Maximum number of iteration reached before convergence. Consider increasing max_iter to improve the fit.\n",
      "  ConvergenceWarning)\n",
      "/home/kuldeep/Documents/CNN/cnn/lib/python3.6/site-packages/sklearn/linear_model/stochastic_gradient.py:561: ConvergenceWarning: Maximum number of iteration reached before convergence. Consider increasing max_iter to improve the fit.\n",
      "  ConvergenceWarning)\n",
      "/home/kuldeep/Documents/CNN/cnn/lib/python3.6/site-packages/sklearn/linear_model/stochastic_gradient.py:561: ConvergenceWarning: Maximum number of iteration reached before convergence. Consider increasing max_iter to improve the fit.\n",
      "  ConvergenceWarning)\n",
      "/home/kuldeep/Documents/CNN/cnn/lib/python3.6/site-packages/sklearn/linear_model/stochastic_gradient.py:561: ConvergenceWarning: Maximum number of iteration reached before convergence. Consider increasing max_iter to improve the fit.\n",
      "  ConvergenceWarning)\n"
     ]
    },
    {
     "name": "stdout",
     "output_type": "stream",
     "text": [
      "Accuracy:  0.6366298290356097\n",
      "Confusion Matrix:  [[2584 2384]\n",
      " [1463 4156]]\n",
      "F1 Score:  0.6836088494119582\n",
      "Precision:  0.635474006116208\n",
      "Recall:  0.7396333867236163\n"
     ]
    },
    {
     "data": {
      "image/png": "[encoded data removed]",
      "text/plain": [
       "<Figure size 432x288 with 1 Axes>"
      ]
     },
     "metadata": {
      "needs_background": "light"
     },
     "output_type": "display_data"
    },
    {
     "name": "stdout",
     "output_type": "stream",
     "text": [
      "AUC Score is:  0.6298811056001334\n"
     ]
    },
    {
     "data": {
      "text/plain": [
       "array([0.89707271, 0.95845137, 0.96411709, 0.95939566, 0.96789424,\n",
       "       0.95372993, 0.95278565, 0.96600567, 0.96597353, 0.9602649 ])"
      ]
     },
     "execution_count": 101,
     "metadata": {},
     "output_type": "execute_result"
    }
   ],
   "source": [
    "linear_combo = SGDClassifier(max_iter=1, learning_rate='optimal')\n",
    "linear_combo.fit(x_combo, y_combo)\n",
    "evaluate_model(linear_combo, x_combo, y_combo)"
   ]
  },
  {
   "cell_type": "code",
   "execution_count": null,
   "metadata": {},
   "outputs": [],
   "source": []
  },
  {
   "cell_type": "markdown",
   "metadata": {},
   "source": [
    "### Ensembler"
   ]
  },
  {
   "cell_type": "code",
   "execution_count": 102,
   "metadata": {},
   "outputs": [
    {
     "name": "stdout",
     "output_type": "stream",
     "text": [
      "Accuracy:  0.9676017757627279\n",
      "Confusion Matrix:  [[4766  202]\n",
      " [ 141 5478]]\n",
      "F1 Score:  0.9696433312682539\n",
      "Precision:  0.9644366197183099\n",
      "Recall:  0.9749065670048052\n"
     ]
    },
    {
     "data": {
      "image/png": "[encoded data removed]",
      "text/plain": [
       "<Figure size 432x288 with 1 Axes>"
      ]
     },
     "metadata": {
      "needs_background": "light"
     },
     "output_type": "display_data"
    },
    {
     "name": "stdout",
     "output_type": "stream",
     "text": [
      "AUC Score is:  0.9671231707809855\n"
     ]
    },
    {
     "data": {
      "text/plain": [
       "array([0.90273843, 0.96411709, 0.9631728 , 0.95561851, 0.96600567,\n",
       "       0.95089707, 0.95845137, 0.96789424, 0.97069943, 0.95837275])"
      ]
     },
     "execution_count": 102,
     "metadata": {},
     "output_type": "execute_result"
    }
   ],
   "source": [
    "combo_bagging = BaggingClassifier(tree.DecisionTreeClassifier(random_state=1))\n",
    "combo_bagging = combo_bagging.fit(x_combo, y_combo)\n",
    "evaluate_model(combo_bagging, x_combo, y_combo)"
   ]
  },
  {
   "cell_type": "code",
   "execution_count": null,
   "metadata": {},
   "outputs": [],
   "source": []
  },
  {
   "cell_type": "code",
   "execution_count": null,
   "metadata": {},
   "outputs": [],
   "source": []
  },
  {
   "cell_type": "markdown",
   "metadata": {},
   "source": [
    "## Scope Rules on Original Preprocessed Dataset"
   ]
  },
  {
   "cell_type": "code",
   "execution_count": 103,
   "metadata": {},
   "outputs": [
    {
     "name": "stderr",
     "output_type": "stream",
     "text": [
      "/home/kuldeep/Documents/CNN/cnn/lib/python3.6/site-packages/sklearn/externals/six.py:31: DeprecationWarning: The module is deprecated in version 0.21 and will be removed in version 0.23 since we've dropped support for Python 2.7. Please rely on the official version of six (https://pypi.org/project/six/).\n",
      "  \"(https://pypi.org/project/six/).\", DeprecationWarning)\n"
     ]
    }
   ],
   "source": [
    "from skrules import SkopeRules"
   ]
  },
  {
   "cell_type": "code",
   "execution_count": 104,
   "metadata": {},
   "outputs": [],
   "source": [
    "new_df = pd.DataFrame(new_df, columns=new_df.columns)"
   ]
  },
  {
   "cell_type": "code",
   "execution_count": 105,
   "metadata": {},
   "outputs": [],
   "source": [
    "new_df.rename(columns={'Last Updated': 'last_updated'}, inplace=True)"
   ]
  },
  {
   "cell_type": "code",
   "execution_count": 106,
   "metadata": {},
   "outputs": [],
   "source": [
    "feature_names = list(new_df.columns)\n",
    "clf = SkopeRules(max_depth_duplication=10,\n",
    "                 n_estimators=20,\n",
    "                 precision_min=0.3,\n",
    "                 recall_min=0.1,\n",
    "                 feature_names=feature_names)"
   ]
  },
  {
   "cell_type": "code",
   "execution_count": null,
   "metadata": {},
   "outputs": [],
   "source": []
  },
  {
   "cell_type": "code",
   "execution_count": 107,
   "metadata": {},
   "outputs": [
    {
     "data": {
      "text/plain": [
       "SkopeRules(bootstrap=False, bootstrap_features=False,\n",
       "           feature_names=['Category', 'Rating', 'Reviews', 'Size', 'Installs',\n",
       "                          'last_updated', 'content_rating_Everyone',\n",
       "                          'content_rating_Mature', 'content_rating_Teen'],\n",
       "           max_depth=3, max_depth_duplication=10, max_features=1.0,\n",
       "           max_samples=0.8, max_samples_features=1.0, min_samples_split=2,\n",
       "           n_estimators=20, n_jobs=1, precision_min=0.3, random_state=None,\n",
       "           recall_min=0.1, verbose=0)"
      ]
     },
     "execution_count": 107,
     "metadata": {},
     "output_type": "execute_result"
    }
   ],
   "source": [
    "clf.fit(new_df, y_labels)"
   ]
  },
  {
   "cell_type": "code",
   "execution_count": 108,
   "metadata": {},
   "outputs": [],
   "source": [
    "skope_rules_scoring = clf.score_top_rules(new_df)"
   ]
  },
  {
   "cell_type": "code",
   "execution_count": 109,
   "metadata": {},
   "outputs": [
    {
     "data": {
      "text/plain": [
       "[('Installs <= 2.9998999252711656e-05 and Reviews > 4.222200004733168e-06 and Size > 0.012500000186264515',\n",
       "  (0.4129032258064516, 0.1549636803874092, 1)),\n",
       " ('Installs <= 7.499899948015809e-05 and Reviews <= 1.6927183423831593e-05 and last_updated > 0.358713760972023',\n",
       "  (0.3385416666666667, 0.15892420537897312, 1)),\n",
       " ('Installs <= 2.9998999252711656e-05 and Reviews <= 1.8686433577386197e-05 and Reviews > 4.2413919345563045e-06',\n",
       "  (0.3933333333333333, 0.14251207729468598, 1)),\n",
       " ('Installs <= 7.49900004848314e-06 and last_updated > 0.358713760972023',\n",
       "  (0.4864864864864865, 0.1291866028708134, 1)),\n",
       " ('Installs <= 2.9998999252711656e-05 and Installs > 7.49900004848314e-06 and Reviews > 4.196611143925111e-06',\n",
       "  (0.36538461538461536, 0.13902439024390245, 1))]"
      ]
     },
     "execution_count": 109,
     "metadata": {},
     "output_type": "execute_result"
    }
   ],
   "source": [
    "clf.rules_"
   ]
  },
  {
   "cell_type": "code",
   "execution_count": 110,
   "metadata": {
    "scrolled": true
   },
   "outputs": [
    {
     "name": "stdout",
     "output_type": "stream",
     "text": [
      "Rule 1:\n"
     ]
    },
    {
     "data": {
      "text/html": [
       "<div>\n",
       "<style scoped>\n",
       "    .dataframe tbody tr th:only-of-type {\n",
       "        vertical-align: middle;\n",
       "    }\n",
       "\n",
       "    .dataframe tbody tr th {\n",
       "        vertical-align: top;\n",
       "    }\n",
       "\n",
       "    .dataframe thead th {\n",
       "        text-align: right;\n",
       "    }\n",
       "</style>\n",
       "<table border=\"1\" class=\"dataframe\">\n",
       "  <thead>\n",
       "    <tr style=\"text-align: right;\">\n",
       "      <th></th>\n",
       "      <th>accuracy</th>\n",
       "      <th>precision</th>\n",
       "      <th>recall</th>\n",
       "    </tr>\n",
       "  </thead>\n",
       "  <tbody>\n",
       "    <tr>\n",
       "      <td>train_set</td>\n",
       "      <td>0.3861</td>\n",
       "      <td>0.38</td>\n",
       "      <td>0.146718</td>\n",
       "    </tr>\n",
       "  </tbody>\n",
       "</table>\n",
       "</div>"
      ],
      "text/plain": [
       "           accuracy  precision    recall\n",
       "train_set    0.3861       0.38  0.146718"
      ]
     },
     "metadata": {},
     "output_type": "display_data"
    },
    {
     "name": "stdout",
     "output_type": "stream",
     "text": [
      "Rule 2:\n"
     ]
    },
    {
     "data": {
      "text/html": [
       "<div>\n",
       "<style scoped>\n",
       "    .dataframe tbody tr th:only-of-type {\n",
       "        vertical-align: middle;\n",
       "    }\n",
       "\n",
       "    .dataframe tbody tr th {\n",
       "        vertical-align: top;\n",
       "    }\n",
       "\n",
       "    .dataframe thead th {\n",
       "        text-align: right;\n",
       "    }\n",
       "</style>\n",
       "<table border=\"1\" class=\"dataframe\">\n",
       "  <thead>\n",
       "    <tr style=\"text-align: right;\">\n",
       "      <th></th>\n",
       "      <th>accuracy</th>\n",
       "      <th>precision</th>\n",
       "      <th>recall</th>\n",
       "    </tr>\n",
       "  </thead>\n",
       "  <tbody>\n",
       "    <tr>\n",
       "      <td>train_set</td>\n",
       "      <td>0.478764</td>\n",
       "      <td>0.330645</td>\n",
       "      <td>0.158301</td>\n",
       "    </tr>\n",
       "  </tbody>\n",
       "</table>\n",
       "</div>"
      ],
      "text/plain": [
       "           accuracy  precision    recall\n",
       "train_set  0.478764   0.330645  0.158301"
      ]
     },
     "metadata": {},
     "output_type": "display_data"
    },
    {
     "name": "stdout",
     "output_type": "stream",
     "text": [
      "Rule 3:\n"
     ]
    },
    {
     "data": {
      "text/html": [
       "<div>\n",
       "<style scoped>\n",
       "    .dataframe tbody tr th:only-of-type {\n",
       "        vertical-align: middle;\n",
       "    }\n",
       "\n",
       "    .dataframe tbody tr th {\n",
       "        vertical-align: top;\n",
       "    }\n",
       "\n",
       "    .dataframe thead th {\n",
       "        text-align: right;\n",
       "    }\n",
       "</style>\n",
       "<table border=\"1\" class=\"dataframe\">\n",
       "  <thead>\n",
       "    <tr style=\"text-align: right;\">\n",
       "      <th></th>\n",
       "      <th>accuracy</th>\n",
       "      <th>precision</th>\n",
       "      <th>recall</th>\n",
       "    </tr>\n",
       "  </thead>\n",
       "  <tbody>\n",
       "    <tr>\n",
       "      <td>train_set</td>\n",
       "      <td>0.368726</td>\n",
       "      <td>0.382199</td>\n",
       "      <td>0.140927</td>\n",
       "    </tr>\n",
       "  </tbody>\n",
       "</table>\n",
       "</div>"
      ],
      "text/plain": [
       "           accuracy  precision    recall\n",
       "train_set  0.368726   0.382199  0.140927"
      ]
     },
     "metadata": {},
     "output_type": "display_data"
    },
    {
     "name": "stdout",
     "output_type": "stream",
     "text": [
      "Rule 4:\n"
     ]
    },
    {
     "data": {
      "text/html": [
       "<div>\n",
       "<style scoped>\n",
       "    .dataframe tbody tr th:only-of-type {\n",
       "        vertical-align: middle;\n",
       "    }\n",
       "\n",
       "    .dataframe tbody tr th {\n",
       "        vertical-align: top;\n",
       "    }\n",
       "\n",
       "    .dataframe thead th {\n",
       "        text-align: right;\n",
       "    }\n",
       "</style>\n",
       "<table border=\"1\" class=\"dataframe\">\n",
       "  <thead>\n",
       "    <tr style=\"text-align: right;\">\n",
       "      <th></th>\n",
       "      <th>accuracy</th>\n",
       "      <th>precision</th>\n",
       "      <th>recall</th>\n",
       "    </tr>\n",
       "  </thead>\n",
       "  <tbody>\n",
       "    <tr>\n",
       "      <td>train_set</td>\n",
       "      <td>0.272201</td>\n",
       "      <td>0.468085</td>\n",
       "      <td>0.127413</td>\n",
       "    </tr>\n",
       "  </tbody>\n",
       "</table>\n",
       "</div>"
      ],
      "text/plain": [
       "           accuracy  precision    recall\n",
       "train_set  0.272201   0.468085  0.127413"
      ]
     },
     "metadata": {},
     "output_type": "display_data"
    },
    {
     "name": "stdout",
     "output_type": "stream",
     "text": [
      "Rule 5:\n"
     ]
    },
    {
     "data": {
      "text/html": [
       "<div>\n",
       "<style scoped>\n",
       "    .dataframe tbody tr th:only-of-type {\n",
       "        vertical-align: middle;\n",
       "    }\n",
       "\n",
       "    .dataframe tbody tr th {\n",
       "        vertical-align: top;\n",
       "    }\n",
       "\n",
       "    .dataframe thead th {\n",
       "        text-align: right;\n",
       "    }\n",
       "</style>\n",
       "<table border=\"1\" class=\"dataframe\">\n",
       "  <thead>\n",
       "    <tr style=\"text-align: right;\">\n",
       "      <th></th>\n",
       "      <th>accuracy</th>\n",
       "      <th>precision</th>\n",
       "      <th>recall</th>\n",
       "    </tr>\n",
       "  </thead>\n",
       "  <tbody>\n",
       "    <tr>\n",
       "      <td>train_set</td>\n",
       "      <td>0.389961</td>\n",
       "      <td>0.386139</td>\n",
       "      <td>0.150579</td>\n",
       "    </tr>\n",
       "  </tbody>\n",
       "</table>\n",
       "</div>"
      ],
      "text/plain": [
       "           accuracy  precision    recall\n",
       "train_set  0.389961   0.386139  0.150579"
      ]
     },
     "metadata": {},
     "output_type": "display_data"
    }
   ],
   "source": [
    "## Credits: https://github.com/scikit-learn-contrib/skope-rules/blob/master/notebooks/demo_titanic.ipynb\n",
    "def compute_y_pred_from_query(X, rule):\n",
    "    score = np.zeros(X.shape[0])\n",
    "    X = X.reset_index(drop=True)\n",
    "    score[list(X.query(rule).index)] = 1\n",
    "    return(score)\n",
    "\n",
    "def compute_performances_from_y_pred(y_true, y_pred, index_name='default_index'):\n",
    "    df = pd.DataFrame(data=\n",
    "        {\n",
    "            'accuracy': [sum(y_pred)/sum(y_true)],\n",
    "            'precision':[sum(y_true * y_pred)/sum(y_pred)],\n",
    "            'recall':[sum(y_true * y_pred)/sum(y_true)]\n",
    "        },\n",
    "        index=[index_name],\n",
    "        columns=['accuracy', 'precision', 'recall']\n",
    "    )\n",
    "    return(df)\n",
    "\n",
    "def compute_train_test_query_performances(X_train, y_train, rule):\n",
    "    \n",
    "    y_train_pred = compute_y_pred_from_query(X_train, rule)\n",
    "#     y_test_pred = compute_y_pred_from_query(x_test, rule)\n",
    "    performances = None\n",
    "    performances = pd.concat([\n",
    "        performances,\n",
    "                compute_performances_from_y_pred(y_train, y_train_pred, 'train_set')],\n",
    "        axis=0)\n",
    "#     performances = pd.concat([\n",
    "#         performances,\n",
    "#         compute_performances_from_y_pred(y_test, y_test_pred, 'test_set')],\n",
    "#         axis=0)\n",
    "    return(performances)\n",
    "\n",
    "for i in range(len(clf.rules_)):\n",
    "    print('Rule '+str(i+1)+':')\n",
    "    display(compute_train_test_query_performances(new_df, y_labels, clf.rules_[i][0])\n",
    ")"
   ]
  },
  {
   "cell_type": "code",
   "execution_count": null,
   "metadata": {},
   "outputs": [],
   "source": []
  },
  {
   "cell_type": "markdown",
   "metadata": {},
   "source": [
    "## Paired T-Test"
   ]
  },
  {
   "cell_type": "code",
   "execution_count": 111,
   "metadata": {},
   "outputs": [],
   "source": [
    "from scipy import stats"
   ]
  },
  {
   "cell_type": "code",
   "execution_count": 116,
   "metadata": {},
   "outputs": [],
   "source": [
    "def paired_ttest(p_value):\n",
    "    if p>0.05:\n",
    "        print(' No significant difference. p value is {}'.format(p))\n",
    "    else:\n",
    "        print(' There is a significant difference. p value is {}'.format(p))"
   ]
  },
  {
   "cell_type": "markdown",
   "metadata": {},
   "source": [
    "### Decision Tree and Naive Bayes"
   ]
  },
  {
   "cell_type": "code",
   "execution_count": 117,
   "metadata": {},
   "outputs": [
    {
     "name": "stdout",
     "output_type": "stream",
     "text": [
      " No significant difference. p value is 0.999974913243652\n"
     ]
    }
   ],
   "source": [
    "t, p = stats.ttest_ind(dt_results , nb_results)\n",
    "paired_ttest(p)"
   ]
  },
  {
   "cell_type": "markdown",
   "metadata": {},
   "source": [
    "### Decision Tree and kNN"
   ]
  },
  {
   "cell_type": "code",
   "execution_count": 120,
   "metadata": {},
   "outputs": [
    {
     "name": "stdout",
     "output_type": "stream",
     "text": [
      " No significant difference. p value is 0.9907959911885996\n",
      " No significant difference. p value is 0.9911031695362924\n"
     ]
    }
   ],
   "source": [
    "t, p = stats.ttest_ind(dt_results , kn3_results)\n",
    "paired_ttest(p)\n",
    "t, p = stats.ttest_ind(dt_results , kn5_results)\n",
    "paired_ttest(p)"
   ]
  },
  {
   "cell_type": "markdown",
   "metadata": {},
   "source": [
    "### Decision Tree and SGD Classifier"
   ]
  },
  {
   "cell_type": "code",
   "execution_count": 123,
   "metadata": {},
   "outputs": [
    {
     "name": "stdout",
     "output_type": "stream",
     "text": [
      " No significant difference. p value is 0.9543834887240188\n"
     ]
    }
   ],
   "source": [
    "t, p = stats.ttest_ind(dt_results , sgd_results)\n",
    "paired_ttest(p)"
   ]
  },
  {
   "cell_type": "markdown",
   "metadata": {},
   "source": [
    "### Decision Tree and Ensemble"
   ]
  },
  {
   "cell_type": "code",
   "execution_count": 125,
   "metadata": {},
   "outputs": [
    {
     "name": "stdout",
     "output_type": "stream",
     "text": [
      " No significant difference. p value is 0.9078490065118854\n"
     ]
    }
   ],
   "source": [
    "t, p = stats.ttest_ind(dt_results , bagging_results)\n",
    "paired_ttest(p)"
   ]
  },
  {
   "cell_type": "markdown",
   "metadata": {},
   "source": [
    "### Naive Bayes and kNN"
   ]
  },
  {
   "cell_type": "code",
   "execution_count": 139,
   "metadata": {},
   "outputs": [
    {
     "name": "stdout",
     "output_type": "stream",
     "text": [
      " No significant difference. p value is 0.991055762645799\n",
      " No significant difference. p value is 0.9913412133158874\n"
     ]
    }
   ],
   "source": [
    "t, p = stats.ttest_ind(nb_results , kn3_results)\n",
    "paired_ttest(p)\n",
    "t, p = stats.ttest_ind(nb_results , kn5_results)\n",
    "paired_ttest(p)"
   ]
  },
  {
   "cell_type": "markdown",
   "metadata": {},
   "source": [
    "### Naive Bayes and SGD"
   ]
  },
  {
   "cell_type": "code",
   "execution_count": 140,
   "metadata": {},
   "outputs": [
    {
     "name": "stdout",
     "output_type": "stream",
     "text": [
      " No significant difference. p value is 0.9555456707807908\n"
     ]
    }
   ],
   "source": [
    "t, p = stats.ttest_ind(nb_results , sgd_results)\n",
    "paired_ttest(p)"
   ]
  },
  {
   "cell_type": "markdown",
   "metadata": {},
   "source": [
    "### Naive Bayes and Ensemble"
   ]
  },
  {
   "cell_type": "code",
   "execution_count": 141,
   "metadata": {},
   "outputs": [
    {
     "name": "stdout",
     "output_type": "stream",
     "text": [
      " No significant difference. p value is 0.9101583572193076\n"
     ]
    }
   ],
   "source": [
    "t, p = stats.ttest_ind(nb_results , bagging_results)\n",
    "paired_ttest(p)"
   ]
  },
  {
   "cell_type": "markdown",
   "metadata": {},
   "source": [
    "### SGD and knn"
   ]
  },
  {
   "cell_type": "code",
   "execution_count": 142,
   "metadata": {},
   "outputs": [
    {
     "name": "stdout",
     "output_type": "stream",
     "text": [
      " No significant difference. p value is 0.9628270595750033\n",
      " No significant difference. p value is 0.9639549344193776\n"
     ]
    }
   ],
   "source": [
    "t, p = stats.ttest_ind(sgd_results , kn3_results)\n",
    "paired_ttest(p)\n",
    "t, p = stats.ttest_ind(sgd_results, kn5_results)\n",
    "paired_ttest(p)"
   ]
  },
  {
   "cell_type": "markdown",
   "metadata": {},
   "source": [
    "### SGD and Ensemble "
   ]
  },
  {
   "cell_type": "code",
   "execution_count": 143,
   "metadata": {},
   "outputs": [
    {
     "name": "stdout",
     "output_type": "stream",
     "text": [
      " No significant difference. p value is 0.8612456446452027\n"
     ]
    }
   ],
   "source": [
    "t, p = stats.ttest_ind(sgd_results , bagging_results)\n",
    "paired_ttest(p)"
   ]
  },
  {
   "cell_type": "markdown",
   "metadata": {},
   "source": [
    "### ensemble and knn"
   ]
  },
  {
   "cell_type": "code",
   "execution_count": 144,
   "metadata": {},
   "outputs": [
    {
     "name": "stdout",
     "output_type": "stream",
     "text": [
      " No significant difference. p value is 0.8968782395181271\n",
      " No significant difference. p value is 0.9001531385816492\n"
     ]
    }
   ],
   "source": [
    "t, p = stats.ttest_ind(bagging_results , kn3_results)\n",
    "paired_ttest(p)\n",
    "t, p = stats.ttest_ind(bagging_results, kn5_results)\n",
    "paired_ttest(p)"
   ]
  },
  {
   "cell_type": "code",
   "execution_count": null,
   "metadata": {},
   "outputs": [],
   "source": []
  }
 ],
 "metadata": {
  "kernelspec": {
   "display_name": "Python 3",
   "language": "python",
   "name": "python3"
  },
  "language_info": {
   "codemirror_mode": {
    "name": "ipython",
    "version": 3
   },
   "file_extension": ".py",
   "mimetype": "text/x-python",
   "name": "python",
   "nbconvert_exporter": "python",
   "pygments_lexer": "ipython3",
   "version": "3.6.8"
  }
 },
 "nbformat": 4,
 "nbformat_minor": 2
}
